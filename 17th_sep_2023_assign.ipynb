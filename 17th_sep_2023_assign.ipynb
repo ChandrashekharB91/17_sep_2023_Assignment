{
 "cells": [
  {
   "cell_type": "code",
   "execution_count": 1,
   "id": "bd11992b-e7c3-43f0-9d97-586ad84d5d44",
   "metadata": {
    "tags": []
   },
   "outputs": [],
   "source": [
    "import numpy as np\n",
    "import random\n",
    "from functools import reduce"
   ]
  },
  {
   "cell_type": "markdown",
   "id": "e5104827-b307-41d6-a331-2bca713be0ea",
   "metadata": {},
   "source": [
    "# <span style=\"color:orange\">For Loop</span>"
   ]
  },
  {
   "cell_type": "markdown",
   "id": "5e669e6e-1560-4227-bf70-54f96df770b5",
   "metadata": {},
   "source": [
    "1.\tWrite a Python program to print numbers from 1 to 10 using a for loop."
   ]
  },
  {
   "cell_type": "code",
   "execution_count": 3,
   "id": "d2342aea-ff6c-4824-aac9-4978c62be02a",
   "metadata": {
    "tags": []
   },
   "outputs": [
    {
     "name": "stdout",
     "output_type": "stream",
     "text": [
      "1 2 3 4 5 6 7 8 9 10 "
     ]
    }
   ],
   "source": [
    "# for loop to print the numbers\n",
    "for i in range(1, 11):\n",
    "    print(i, end = ' ')"
   ]
  },
  {
   "cell_type": "code",
   "execution_count": 4,
   "id": "d578f6f3-02a9-4d6e-b9bf-cfddbb13fad6",
   "metadata": {
    "tags": []
   },
   "outputs": [
    {
     "name": "stdout",
     "output_type": "stream",
     "text": [
      "[1, 2, 3, 4, 5, 6, 7, 8, 9, 10]\n"
     ]
    }
   ],
   "source": [
    "# list comprehension\n",
    "num_list = [i for i in range(1, 11)]\n",
    "print(num_list)"
   ]
  },
  {
   "cell_type": "code",
   "execution_count": 6,
   "id": "4dd0d6d1-7903-4411-b989-fff01da9e64b",
   "metadata": {
    "tags": []
   },
   "outputs": [
    {
     "name": "stdout",
     "output_type": "stream",
     "text": [
      "[1, 2, 3, 4, 5, 6, 7, 8, 9, 10]\n"
     ]
    }
   ],
   "source": [
    "# shortcut\n",
    "num_list1 = list(range(1, 11))\n",
    "print(num_list1)"
   ]
  },
  {
   "cell_type": "markdown",
   "id": "eafcdf21-5865-4e1f-8a75-185983834452",
   "metadata": {},
   "source": [
    "2.\tExplain the difference between a for loop and a while loop in Python."
   ]
  },
  {
   "cell_type": "markdown",
   "id": "1d0f068e-a072-4b81-bdaa-d45a2841ad3d",
   "metadata": {},
   "source": [
    "* For loop executes the statement over the range of values of the variable.\n",
    "* While loop executes the statement until the certain condition holds."
   ]
  },
  {
   "cell_type": "code",
   "execution_count": 7,
   "id": "c570b8fe-4825-4b80-bef5-480046a27eea",
   "metadata": {
    "tags": []
   },
   "outputs": [
    {
     "data": {
      "text/plain": [
       "[1, 4, 9, 16, 25]"
      ]
     },
     "execution_count": 7,
     "metadata": {},
     "output_type": "execute_result"
    }
   ],
   "source": [
    "# Example of for loop\n",
    "square_list = []\n",
    "for i in range(1, 6):\n",
    "    j = i**2\n",
    "    square_list.append(j)\n",
    "square_list"
   ]
  },
  {
   "cell_type": "code",
   "execution_count": 10,
   "id": "56cce67a-ad45-44ca-bd81-cc869f077de8",
   "metadata": {
    "tags": []
   },
   "outputs": [
    {
     "data": {
      "text/plain": [
       "[1, 4, 9, 16, 25, 36, 49, 64, 81, 100]"
      ]
     },
     "execution_count": 10,
     "metadata": {},
     "output_type": "execute_result"
    }
   ],
   "source": [
    "# Example of while loop\n",
    "i = 1\n",
    "square_list = []\n",
    "while i <= 10:\n",
    "    square_list.append(i**2)\n",
    "    i += 1\n",
    "square_list"
   ]
  },
  {
   "cell_type": "markdown",
   "id": "a6446336-14e0-49d3-84ce-7d2fef305be4",
   "metadata": {},
   "source": [
    "3.\tWrite a Python program to calculate the sum of all numbers from 1 to 100 using a for loop."
   ]
  },
  {
   "cell_type": "code",
   "execution_count": 13,
   "id": "15ca24c8-37f3-4408-8307-17cc5982abd2",
   "metadata": {
    "tags": []
   },
   "outputs": [
    {
     "name": "stdout",
     "output_type": "stream",
     "text": [
      "5050\n"
     ]
    }
   ],
   "source": [
    "# Initialize the sum with 0 and add numbers to it\n",
    "summation = 0\n",
    "for i in range(1, 101):\n",
    "    summation += i\n",
    "    \n",
    "print(summation)"
   ]
  },
  {
   "cell_type": "markdown",
   "id": "5cf3066a-a13e-48bc-856c-0ef8d5f82f10",
   "metadata": {},
   "source": [
    "4.\tHow do you iterate through a list using a for loop in Python?"
   ]
  },
  {
   "cell_type": "markdown",
   "id": "fb626de1-de67-4f07-aef3-27109c03fc11",
   "metadata": {},
   "source": [
    "*  the for loop iterates through each element (item) in the list, and the indented block of code below the for statement is executed for each iteration."
   ]
  },
  {
   "cell_type": "code",
   "execution_count": 17,
   "id": "cd622ba5-60fc-43a3-b81c-320b14c8b5f8",
   "metadata": {
    "tags": []
   },
   "outputs": [
    {
     "name": "stdout",
     "output_type": "stream",
     "text": [
      "1 dsa\n",
      "2 java\n",
      "3 javascript\n",
      "4 oops\n",
      "5 python\n",
      "6 mysql\n"
     ]
    }
   ],
   "source": [
    "# For example\n",
    "list1 = ['DSA','JAVA','JAVASCRIPT','OOPS','PYTHON','MYSQL']\n",
    "for idx, obj in enumerate(list1): # we are iterating through each element of enumerated list1 and printing it\n",
    "    print(idx + 1, obj.lower())  # we can do much more things rather than just printing objects using for loop"
   ]
  },
  {
   "cell_type": "markdown",
   "id": "07c65fc7-2199-4667-b3d3-c3321e7231a2",
   "metadata": {},
   "source": [
    "5.\tWrite a Python program to find the product of all elements in a list using a for loop."
   ]
  },
  {
   "cell_type": "code",
   "execution_count": 18,
   "id": "30e13dff-b146-4e24-aa0e-7b0cdee62304",
   "metadata": {
    "tags": []
   },
   "outputs": [
    {
     "name": "stdout",
     "output_type": "stream",
     "text": [
      "120\n"
     ]
    }
   ],
   "source": [
    "list2 = [1,2,3,4,5]\n",
    "product = 1\n",
    "for i in list2:\n",
    "    product *= i\n",
    "print(product)"
   ]
  },
  {
   "cell_type": "markdown",
   "id": "aeabb796-3904-421c-bd52-f2d85ec155bf",
   "metadata": {},
   "source": [
    "6.\tCreate a Python program that prints all even numbers from 1 to 20 using a for loop."
   ]
  },
  {
   "cell_type": "code",
   "execution_count": 19,
   "id": "62d9460f-8139-4464-bfcd-dd7551d4df29",
   "metadata": {
    "tags": []
   },
   "outputs": [
    {
     "name": "stdout",
     "output_type": "stream",
     "text": [
      "2 4 6 8 10 12 14 16 18 20 "
     ]
    }
   ],
   "source": [
    "for i in range(1, 21):\n",
    "    if i%2 == 0:\n",
    "        print(i, end = ' ')"
   ]
  },
  {
   "cell_type": "code",
   "execution_count": 20,
   "id": "ac89fc79-6ba0-4b4e-852b-db592b6ab921",
   "metadata": {
    "tags": []
   },
   "outputs": [
    {
     "name": "stdout",
     "output_type": "stream",
     "text": [
      "[2, 4, 6, 8, 10, 12, 14, 16, 18, 20]\n"
     ]
    }
   ],
   "source": [
    "# using list comprehension\n",
    "even_list = [i for i in range(1, 21) if i%2 == 0]\n",
    "print(even_list)"
   ]
  },
  {
   "cell_type": "code",
   "execution_count": 21,
   "id": "1fb01201-af06-4eef-a84a-1b5d493a307e",
   "metadata": {
    "tags": []
   },
   "outputs": [
    {
     "name": "stdout",
     "output_type": "stream",
     "text": [
      "[1, 3, 5, 7, 9, 11, 13, 15, 17, 19]\n"
     ]
    }
   ],
   "source": [
    "# Similarly for odd numbers\n",
    "odd_list = [i for i in range(1, 21) if i%2 != 0]\n",
    "print(odd_list)"
   ]
  },
  {
   "cell_type": "markdown",
   "id": "c2c23cd6-c228-474c-8ff4-5cbcc4076971",
   "metadata": {},
   "source": [
    "7.\tWrite a Python program that calculates the factorial of a number using a for loop."
   ]
  },
  {
   "cell_type": "code",
   "execution_count": 27,
   "id": "9b12aee4-6530-4fda-9618-31f537330578",
   "metadata": {
    "tags": []
   },
   "outputs": [
    {
     "name": "stdin",
     "output_type": "stream",
     "text": [
      "Enter the integer:  5\n"
     ]
    },
    {
     "name": "stdout",
     "output_type": "stream",
     "text": [
      "5! = 120\n"
     ]
    }
   ],
   "source": [
    "number = int(input(\"Enter the integer: \"))\n",
    "fact = 1\n",
    "if number < 0:\n",
    "    print(\"Please enter a valid integer!\")\n",
    "elif number == 0:\n",
    "    print(\"0! = 1\")\n",
    "else:\n",
    "    for i in range(1, number + 1):\n",
    "        fact *= i\n",
    "    print(f\"{number}! = {fact}\")"
   ]
  },
  {
   "cell_type": "markdown",
   "id": "e6a8914a-c112-4459-85fd-f4fcf493f280",
   "metadata": {
    "tags": []
   },
   "source": [
    "8.\tHow can you iterate through the characters of a string using a for loop in Python?"
   ]
  },
  {
   "cell_type": "code",
   "execution_count": 30,
   "id": "bbffbfd9-6eb1-449d-889f-10ef0f6b29ec",
   "metadata": {
    "tags": []
   },
   "outputs": [
    {
     "name": "stdout",
     "output_type": "stream",
     "text": [
      "C h a n d r a s h e k h a r "
     ]
    }
   ],
   "source": [
    "string = \"Chandrashekhar\"\n",
    "\n",
    "for char in string:\n",
    "    print(char, end = ' ')"
   ]
  },
  {
   "cell_type": "markdown",
   "id": "4efd28c6-6b05-4695-ba3b-adbd16f612d2",
   "metadata": {
    "tags": []
   },
   "source": [
    "9.\tWrite a Python program to find the largest number in a list using a for loop."
   ]
  },
  {
   "cell_type": "code",
   "execution_count": 4,
   "id": "63e3cbb8-d06f-4f0e-8fc0-75a27e47a999",
   "metadata": {},
   "outputs": [
    {
     "name": "stdout",
     "output_type": "stream",
     "text": [
      "900\n"
     ]
    }
   ],
   "source": [
    "list1 = [100, 120, -300, 576, 343, 900]\n",
    "max_elt = list1[0] # Lets assume first element as a max element\n",
    "for j in list1:\n",
    "    if j > max_elt:\n",
    "        max_elt = j\n",
    "print(max_elt)"
   ]
  },
  {
   "cell_type": "markdown",
   "id": "33bc8cfe-d49a-446b-8961-fc36566f1282",
   "metadata": {},
   "source": [
    "10.\tCreate a Python program that prints the Fibonacci sequence up to a specified limit using a for loop."
   ]
  },
  {
   "cell_type": "code",
   "execution_count": 6,
   "id": "e9809c8d-4a06-4c42-a87c-dbd1407134b2",
   "metadata": {},
   "outputs": [
    {
     "name": "stdin",
     "output_type": "stream",
     "text": [
      "Enter the number upto which the Fibonacci sequence is to be generated:  10\n"
     ]
    },
    {
     "name": "stdout",
     "output_type": "stream",
     "text": [
      "The sequence of Fibonacci numbers upto 10 is: [0, 1, 1, 2, 3, 5, 8, 13, 21, 34]\n"
     ]
    }
   ],
   "source": [
    "n = int(input(\"Enter the number upto which the Fibonacci sequence is to be generated: \"))\n",
    "\n",
    "# Define the function to generate Fibonacci sequence\n",
    "def generate_fibonacci(n):\n",
    "    fibonacci_numbers = [0, 1]\n",
    "    for _ in range(2, n):\n",
    "        next_number = fibonacci_numbers[-1] + fibonacci_numbers[-2]\n",
    "        fibonacci_numbers.append(next_number)\n",
    "    return fibonacci_numbers\n",
    "\n",
    "fibonacci_sequence = generate_fibonacci(n)\n",
    "print(f\"The sequence of Fibonacci numbers upto {n} is: {fibonacci_sequence}\")"
   ]
  },
  {
   "cell_type": "markdown",
   "id": "9dd37bce-8b31-4334-9fd7-9bf76183ee73",
   "metadata": {},
   "source": [
    "11.\tWrite a Python program to count the number of vowels in a given string using a for loop."
   ]
  },
  {
   "cell_type": "code",
   "execution_count": 8,
   "id": "6ddc8595-f0ec-484e-99cd-8d55ea306ffe",
   "metadata": {
    "tags": []
   },
   "outputs": [
    {
     "name": "stdin",
     "output_type": "stream",
     "text": [
      "Enter the string:  Mathematics\n"
     ]
    },
    {
     "name": "stdout",
     "output_type": "stream",
     "text": [
      "The number of vowels in the given string are: 3 and the vowels are: {'a', 'e', 'i'}\n"
     ]
    }
   ],
   "source": [
    "vowel_list = ['a','e','i','o','u']\n",
    "\n",
    "string = input(\"Enter the string: \")\n",
    "\n",
    "def vowel_count(string):\n",
    "    string = string.lower()\n",
    "    vowels_in_string = [] # start by initalizing an empty list\n",
    "    for char in string:\n",
    "        if char in vowel_list:\n",
    "            vowels_in_string.append(char)\n",
    "    vowels_in_string = set(vowels_in_string)\n",
    "    no_of_vowels = len(vowels_in_string)\n",
    "    return vowels_in_string, no_of_vowels\n",
    "\n",
    "vowels_in_string, no_of_vowels = vowel_count(string)\n",
    "print(f\"The number of vowels in the given string are: {no_of_vowels} and the vowels are: {vowels_in_string}\")"
   ]
  },
  {
   "cell_type": "code",
   "execution_count": 10,
   "id": "7fb0e4f7-2a31-49e7-acc6-72767eb19eab",
   "metadata": {
    "tags": []
   },
   "outputs": [
    {
     "name": "stdin",
     "output_type": "stream",
     "text": [
      "Enter the string:  Chandrashekhar\n"
     ]
    },
    {
     "name": "stdout",
     "output_type": "stream",
     "text": [
      "The number of vowels in the given string are: 2 and the vowels are: {'a', 'e'}\n"
     ]
    }
   ],
   "source": [
    "# Using list comprehension\n",
    "vowel_list = ['a', 'e', 'i', 'o', 'u']\n",
    "\n",
    "string = input(\"Enter the string: \")\n",
    "\n",
    "def vowel_count(string):\n",
    "    string = string.lower()\n",
    "    vowels_in_string = set(char for char in string if char in vowel_list)\n",
    "    no_of_vowels = len(vowels_in_string)\n",
    "    return vowels_in_string, no_of_vowels\n",
    "\n",
    "vowels_in_string, no_of_vowels = vowel_count(string)\n",
    "print(f\"The number of vowels in the given string are: {no_of_vowels} and the vowels are: {vowels_in_string}\")"
   ]
  },
  {
   "cell_type": "markdown",
   "id": "c0ff5dd8-3b1c-4c7c-bc78-892621182489",
   "metadata": {},
   "source": [
    "12.\tCreate a Python program that generates a multiplication table for a given number using a for loop."
   ]
  },
  {
   "cell_type": "code",
   "execution_count": 13,
   "id": "638ed2c4-53cd-4b56-a629-109be93cbdb2",
   "metadata": {
    "tags": []
   },
   "outputs": [
    {
     "name": "stdin",
     "output_type": "stream",
     "text": [
      "Enter the number for the multiplication table is to be generated: 28\n"
     ]
    },
    {
     "name": "stdout",
     "output_type": "stream",
     "text": [
      "28 56 84 112 140 168 196 224 252 280 "
     ]
    }
   ],
   "source": [
    "n = int(input(\"Enter the number for the multiplication table is to be generated:\"))\n",
    "\n",
    "for i in range(1, 11):\n",
    "    print(n*i, end = ' ')"
   ]
  },
  {
   "cell_type": "code",
   "execution_count": 20,
   "id": "7fbf85ba-6a11-40cc-bcd9-7b1682824856",
   "metadata": {
    "tags": []
   },
   "outputs": [
    {
     "name": "stdin",
     "output_type": "stream",
     "text": [
      "Enter the numbers between which you want to create a multiplication table (separated by space):  20 30\n"
     ]
    },
    {
     "name": "stdout",
     "output_type": "stream",
     "text": [
      "20 40 60 80 100 120 140 160 180 200 \n",
      "21 42 63 84 105 126 147 168 189 210 \n",
      "22 44 66 88 110 132 154 176 198 220 \n",
      "23 46 69 92 115 138 161 184 207 230 \n",
      "24 48 72 96 120 144 168 192 216 240 \n",
      "25 50 75 100 125 150 175 200 225 250 \n",
      "26 52 78 104 130 156 182 208 234 260 \n",
      "27 54 81 108 135 162 189 216 243 270 \n",
      "28 56 84 112 140 168 196 224 252 280 \n",
      "29 58 87 116 145 174 203 232 261 290 \n",
      "30 60 90 120 150 180 210 240 270 300 \n"
     ]
    }
   ],
   "source": [
    "# Creating multiplication table between two numbers based on user input\n",
    "n1, n2 = map(int, input(\"Enter the numbers between which you want to create a multiplication table (separated by space): \").split())\n",
    "for i in range(n1, n2 + 1):\n",
    "    for j in range(1, 11):\n",
    "        print(i*j, end = ' ')\n",
    "    print()"
   ]
  },
  {
   "cell_type": "markdown",
   "id": "097d1283-e53e-4725-b3db-697caf37e484",
   "metadata": {},
   "source": [
    "13.\tWrite a Python program to reverse a list using a for loop."
   ]
  },
  {
   "cell_type": "code",
   "execution_count": 23,
   "id": "2b62f065-7e6d-417e-b963-f785919eff38",
   "metadata": {
    "tags": []
   },
   "outputs": [
    {
     "name": "stdin",
     "output_type": "stream",
     "text": [
      "Enter the string to be reversed: pwskills\n"
     ]
    },
    {
     "name": "stdout",
     "output_type": "stream",
     "text": [
      "sllikswp\n"
     ]
    }
   ],
   "source": [
    "string = input(\"Enter the string to be reversed:\")\n",
    "reversed_string = []\n",
    "for i in reversed(range(len(string))):\n",
    "    reversed_string.append(string[i])\n",
    "reversed_string = ''.join(reversed_string)\n",
    "print(reversed_string)"
   ]
  },
  {
   "cell_type": "markdown",
   "id": "0c5c6f7b-b3f4-4ffa-b996-4d52cca4d36a",
   "metadata": {},
   "source": [
    "14.\tWrite a Python program to find the common elements between two lists using a for loop."
   ]
  },
  {
   "cell_type": "code",
   "execution_count": 24,
   "id": "0c524676-c623-4d0b-b0ca-3513cb46811b",
   "metadata": {
    "tags": []
   },
   "outputs": [
    {
     "name": "stdout",
     "output_type": "stream",
     "text": [
      "The common elements in the given lists are:  {'b', 1, 'e', 5}\n"
     ]
    }
   ],
   "source": [
    "list1 = ['a', 1, 2, 'b', 4, 5, 'd', 'e']\n",
    "list2 = ['b', 1, 10, 'c', 40, 5, 'f', 'e']\n",
    "\n",
    "common_elts = []\n",
    "for i in list1:\n",
    "    if i in list2:\n",
    "        common_elts.append(i)\n",
    "common_elts = set(common_elts)\n",
    "print(\"The common elements in the given lists are: \", common_elts)"
   ]
  },
  {
   "cell_type": "markdown",
   "id": "e71e2dcf-490d-4f01-b5f4-3a7531dd1482",
   "metadata": {},
   "source": [
    "15.\tExplain how to use a for loop to iterate through the keys and values of a dictionary in Python."
   ]
  },
  {
   "cell_type": "code",
   "execution_count": 2,
   "id": "e459e116-6de3-4e60-8769-2d24dec2f421",
   "metadata": {},
   "outputs": [],
   "source": [
    "dict1 = {'a':1, 'b':2, 'c':3, 'd':4, 'e':5}"
   ]
  },
  {
   "cell_type": "code",
   "execution_count": 10,
   "id": "2b790c37-bbc3-426e-add6-136f852e5aa8",
   "metadata": {
    "tags": []
   },
   "outputs": [
    {
     "name": "stdout",
     "output_type": "stream",
     "text": [
      "('a', 1)\n",
      "('b', 2)\n",
      "('c', 3)\n",
      "('d', 4)\n",
      "('e', 5)\n"
     ]
    }
   ],
   "source": [
    "for x in dict1.items():\n",
    "    print(x)"
   ]
  },
  {
   "cell_type": "code",
   "execution_count": 13,
   "id": "6fe79e1f-4111-47db-a334-2e18657ab3c8",
   "metadata": {
    "tags": []
   },
   "outputs": [
    {
     "name": "stdout",
     "output_type": "stream",
     "text": [
      "a\n",
      "b\n",
      "c\n",
      "d\n",
      "e\n"
     ]
    }
   ],
   "source": [
    "for x in dict1.keys():\n",
    "    print(x)"
   ]
  },
  {
   "cell_type": "code",
   "execution_count": 14,
   "id": "1b88012c-7ee9-46ba-ad42-b2e3a16bfe1d",
   "metadata": {
    "tags": []
   },
   "outputs": [
    {
     "name": "stdout",
     "output_type": "stream",
     "text": [
      "1\n",
      "2\n",
      "3\n",
      "4\n",
      "5\n"
     ]
    }
   ],
   "source": [
    "for y in dict1.values():\n",
    "    print(y)"
   ]
  },
  {
   "cell_type": "code",
   "execution_count": 11,
   "id": "2baa9a5f-c275-4464-b373-22cec46e862c",
   "metadata": {
    "tags": []
   },
   "outputs": [
    {
     "name": "stdout",
     "output_type": "stream",
     "text": [
      "The value of a is 1\n",
      "The value of b is 2\n",
      "The value of c is 3\n",
      "The value of d is 4\n",
      "The value of e is 5\n"
     ]
    }
   ],
   "source": [
    "for key, value in zip(dict1.keys(), dict1.values()):\n",
    "    print(f'The value of {key} is {value}')"
   ]
  },
  {
   "cell_type": "markdown",
   "id": "88fccb33-2120-464f-bced-2364ce967209",
   "metadata": {
    "tags": []
   },
   "source": [
    "16.\tWrite a Python program to find the GCD (Greatest Common Divisor) of two numbers using a for loop."
   ]
  },
  {
   "cell_type": "code",
   "execution_count": 22,
   "id": "b675c3a1-60b2-4a84-8a83-42c2797d7525",
   "metadata": {
    "tags": []
   },
   "outputs": [
    {
     "name": "stdin",
     "output_type": "stream",
     "text": [
      "Enter the integers separated by spaces 10 25\n"
     ]
    },
    {
     "name": "stdout",
     "output_type": "stream",
     "text": [
      "The gcd of 10 and 25 is 5\n"
     ]
    }
   ],
   "source": [
    "# Using for loop\n",
    "\n",
    "def find_gcd(a, b):\n",
    "    common_divisors = []\n",
    "    \n",
    "    for i in range(1, min(a, b) + 1):\n",
    "        if a % i == 0 and b % i == 0:\n",
    "            common_divisors.append(i)\n",
    "    gcd = common_divisors[-1] if common_divisors else None\n",
    "    return gcd\n",
    "\n",
    "input1 = input(\"Enter the integers separated by spaces\")\n",
    "a, b = map(int, input1.split())\n",
    "gcd = find_gcd(a, b)\n",
    "print(f'The gcd of {a} and {b} is {gcd}')"
   ]
  },
  {
   "cell_type": "code",
   "execution_count": 41,
   "id": "59223c93-27f0-4ce6-aeed-ec4d21ece30c",
   "metadata": {
    "tags": []
   },
   "outputs": [
    {
     "name": "stdin",
     "output_type": "stream",
     "text": [
      "Enter the integers separated by spaces 45 132\n"
     ]
    },
    {
     "name": "stdout",
     "output_type": "stream",
     "text": [
      "The gcd of 45 and 132 is 3\n"
     ]
    }
   ],
   "source": [
    "# Using while loop\n",
    "\n",
    "def find_gcd(a, b):\n",
    "    while b:\n",
    "        a, b = b, a % b\n",
    "    return a\n",
    "\n",
    "input1 = input(\"Enter the integers separated by spaces\")\n",
    "a, b = map(int, input1.split())\n",
    "gcd = find_gcd(a, b)\n",
    "print(f'The gcd of {a} and {b} is {gcd}')"
   ]
  },
  {
   "cell_type": "markdown",
   "id": "8a745be5-7c6a-4225-b7ff-2fab362358f5",
   "metadata": {},
   "source": [
    "17.\tCreate a Python program that checks if a string is a palindrome using a for loop."
   ]
  },
  {
   "cell_type": "code",
   "execution_count": 40,
   "id": "8355d502-5547-45bc-aef5-de616a53a74a",
   "metadata": {
    "tags": []
   },
   "outputs": [
    {
     "name": "stdin",
     "output_type": "stream",
     "text": [
      "Enter the string level\n"
     ]
    },
    {
     "name": "stdout",
     "output_type": "stream",
     "text": [
      "The word 'level' is palindrome\n"
     ]
    }
   ],
   "source": [
    "# Using for loop and reversed function\n",
    "\n",
    "string = input(\"Enter the string\")\n",
    "reverse_string = []\n",
    "for i in reversed(range(len(string))):\n",
    "    reverse_string.append(string[i])\n",
    "reverse_string = ''.join(reverse_string)\n",
    "if string == reverse_string:\n",
    "    print(f\"The word '{string}' is palindrome\")\n",
    "else:\n",
    "    print(f\"The word '{string}' is not a palindrome\")"
   ]
  },
  {
   "cell_type": "code",
   "execution_count": 42,
   "id": "1eaf7291-87bd-4bc8-8b8d-d6eb303388d0",
   "metadata": {
    "tags": []
   },
   "outputs": [
    {
     "name": "stdin",
     "output_type": "stream",
     "text": [
      "Enter the string:  rotator\n"
     ]
    },
    {
     "name": "stdout",
     "output_type": "stream",
     "text": [
      "The word 'rotator' is a palindrome.\n"
     ]
    }
   ],
   "source": [
    "# Simpler way\n",
    "\n",
    "string = input(\"Enter the string: \")\n",
    "reverse_string = string[::-1]\n",
    "\n",
    "if string == reverse_string:\n",
    "    print(f\"The word '{string}' is a palindrome.\")\n",
    "else:\n",
    "    print(f\"The word '{string}' is not a palindrome.\")"
   ]
  },
  {
   "cell_type": "markdown",
   "id": "1aa681f3-da68-41ce-8013-c6589f235119",
   "metadata": {},
   "source": [
    "18.\tWrite a Python program to remove duplicates from a list using a for loop"
   ]
  },
  {
   "cell_type": "code",
   "execution_count": 46,
   "id": "e8d67177-d7e1-4d34-9ba7-d2afa1d5670e",
   "metadata": {
    "tags": []
   },
   "outputs": [
    {
     "name": "stdin",
     "output_type": "stream",
     "text": [
      "Enter the list 1 1 2 2 5 4 8 7 10\n"
     ]
    },
    {
     "name": "stdout",
     "output_type": "stream",
     "text": [
      "The duplicates in the list are {'1', '2'}\n"
     ]
    }
   ],
   "source": [
    "# Method 1\n",
    "\n",
    "def remove_duplicates(lst):\n",
    "    duplicates = []\n",
    "    for i in range(len(lst)):\n",
    "        for j in range(len(lst)):\n",
    "            if (i != j) and lst[i] == lst[j]:\n",
    "                duplicates.append(lst[i])\n",
    "    duplicates = set(duplicates)\n",
    "    return duplicates           \n",
    "                \n",
    "inp = input(\"Enter the list\")\n",
    "inp_list = list(inp.split())\n",
    "result = remove_duplicates(inp_list)\n",
    "print(f\"The duplicates in the list are {result}\")"
   ]
  },
  {
   "cell_type": "code",
   "execution_count": 47,
   "id": "21df0940-150e-40d2-9758-97ad0ce9d3c4",
   "metadata": {
    "tags": []
   },
   "outputs": [
    {
     "name": "stdin",
     "output_type": "stream",
     "text": [
      "Enter the list separated by spaces:  1 1 2 2 5 5 4 7 1 2 5 8 9\n"
     ]
    },
    {
     "name": "stdout",
     "output_type": "stream",
     "text": [
      "The duplicates in the list are: ['1', '2', '5', '1', '2', '5']\n"
     ]
    }
   ],
   "source": [
    "# Method 2\n",
    "\n",
    "def remove_duplicates(lst):\n",
    "    unique_elements = set()\n",
    "    duplicates = []\n",
    "\n",
    "    for item in lst:\n",
    "        if item not in unique_elements:\n",
    "            unique_elements.add(item)\n",
    "        else:\n",
    "            duplicates.append(item)\n",
    "\n",
    "    return duplicates\n",
    "\n",
    "inp = input(\"Enter the list separated by spaces: \")\n",
    "inp_list = inp.split()\n",
    "result = remove_duplicates(inp_list)\n",
    "print(f\"The duplicates in the list are: {result}\")"
   ]
  },
  {
   "cell_type": "markdown",
   "id": "1efc83cf-87f0-44b0-8a5b-578ee1f21b90",
   "metadata": {},
   "source": [
    "19.\tCreate a Python program that counts the number of words in a sentence using a for loop."
   ]
  },
  {
   "cell_type": "code",
   "execution_count": 53,
   "id": "d900a8fb-0ff0-4b31-b03a-1bfda4d85678",
   "metadata": {
    "tags": []
   },
   "outputs": [
    {
     "name": "stdin",
     "output_type": "stream",
     "text": [
      "Enter the sentence This is a python code\n"
     ]
    },
    {
     "name": "stdout",
     "output_type": "stream",
     "text": [
      "The number of words in the given sentence is 5\n"
     ]
    }
   ],
   "source": [
    "sentence = input(\"Enter the sentence\")\n",
    "word_list = []\n",
    "\n",
    "for word in sentence.split():\n",
    "    word_list.append(word)\n",
    "    \n",
    "no_of_words = len(word_list)\n",
    "print('The number of words in the given sentence is', no_of_words)"
   ]
  },
  {
   "cell_type": "markdown",
   "id": "733a36ca-9ea1-4c21-8ae8-9d0aa962e75c",
   "metadata": {},
   "source": [
    "20.\tWrite a Python program to find the sum of all odd numbers from 1 to 50 using a for loop."
   ]
  },
  {
   "cell_type": "code",
   "execution_count": 68,
   "id": "e87830d3-4601-4ee0-a28a-1cd7f87e06dc",
   "metadata": {
    "tags": []
   },
   "outputs": [
    {
     "name": "stdout",
     "output_type": "stream",
     "text": [
      "The sum of odd numbers from 1 to 50 is 625\n"
     ]
    }
   ],
   "source": [
    "# Initialize j with 0\n",
    "\n",
    "j = 0\n",
    "for i in range(1, 51):\n",
    "    if i % 2 != 0:\n",
    "        j += i\n",
    "print(f\"The sum of odd numbers from 1 to 50 is {j}\")"
   ]
  },
  {
   "cell_type": "code",
   "execution_count": 69,
   "id": "5d5a73ec-8a2d-4d3c-a68e-f056e37e41d4",
   "metadata": {
    "tags": []
   },
   "outputs": [
    {
     "name": "stdout",
     "output_type": "stream",
     "text": [
      "The sum of odd numbers from 1 to 50 is 625\n"
     ]
    }
   ],
   "source": [
    "# Using steps in range function\n",
    "\n",
    "j = 0\n",
    "for i in range(1, 51, 2):\n",
    "    j += i\n",
    "\n",
    "print(f\"The sum of odd numbers from 1 to 50 is {j}\")"
   ]
  },
  {
   "cell_type": "markdown",
   "id": "a3d4dec7-7ba9-4c1b-ac98-97a43f236ff1",
   "metadata": {},
   "source": [
    "21.\tWrite a Python program that checks if a given year is a leap year using a for loop."
   ]
  },
  {
   "cell_type": "code",
   "execution_count": 71,
   "id": "ce88060f-de9a-44d4-af28-b54da6e37c8e",
   "metadata": {
    "tags": []
   },
   "outputs": [
    {
     "name": "stdin",
     "output_type": "stream",
     "text": [
      "Enter the year 2016\n"
     ]
    },
    {
     "name": "stdout",
     "output_type": "stream",
     "text": [
      "year 2016 is a leap year\n"
     ]
    }
   ],
   "source": [
    "def is_leap_year(year):\n",
    "    if (year % 4 == 0 and year % 100 != 0) or (year % 400 == 0):\n",
    "        return True\n",
    "    else:\n",
    "        return False\n",
    "\n",
    "year = int(input(\"Enter the year\"))\n",
    "\n",
    "if is_leap_year(year):\n",
    "    print(f\"year {year} is a leap year\")\n",
    "else:\n",
    "    print(f\"year {year} is not a leap year\")"
   ]
  },
  {
   "cell_type": "code",
   "execution_count": 73,
   "id": "ea074fba-e1c1-4138-9b7c-85a425d77b43",
   "metadata": {
    "tags": []
   },
   "outputs": [
    {
     "name": "stdin",
     "output_type": "stream",
     "text": [
      "Enter the year 2022\n"
     ]
    },
    {
     "name": "stdout",
     "output_type": "stream",
     "text": [
      "year 2022 is not a leap year\n"
     ]
    }
   ],
   "source": [
    "year = int(input(\"Enter the year\"))\n",
    "if is_leap_year(year):\n",
    "    print(f\"year {year} is a leap year\")\n",
    "else:\n",
    "    print(f\"year {year} is not a leap year\")"
   ]
  },
  {
   "cell_type": "markdown",
   "id": "a151c2b7-6b20-43a4-9dd4-72715ff724ee",
   "metadata": {},
   "source": [
    "22.\tCreate a Python program that calculates the square root of a number using a for loop."
   ]
  },
  {
   "cell_type": "code",
   "execution_count": 74,
   "id": "90df1f62-add4-48e2-9c52-f3b8bcf9c83a",
   "metadata": {
    "tags": []
   },
   "outputs": [
    {
     "name": "stdin",
     "output_type": "stream",
     "text": [
      "Enter a number:  10\n"
     ]
    },
    {
     "name": "stdout",
     "output_type": "stream",
     "text": [
      "The square root of 10.0 is approximately 3.162277660168379\n"
     ]
    }
   ],
   "source": [
    "# To use for loop, we have to implement Newton's method\n",
    "\n",
    "def square_root(number, iterations=1000):\n",
    "    # Initial guess, could be any reasonable value\n",
    "    guess = number / 2.0  \n",
    "    for _ in range(iterations):\n",
    "        guess = 0.5 * (guess + number / guess)\n",
    "    return guess\n",
    "\n",
    "number = float(input(\"Enter a number: \"))\n",
    "\n",
    "result = square_root(number)\n",
    "print(f\"The square root of {number} is approximately {result}\")"
   ]
  },
  {
   "cell_type": "markdown",
   "id": "9e88598b-7292-4f11-91c5-cb47d607c685",
   "metadata": {},
   "source": [
    "23.\tWrite a Python program to find the LCM (Least Common Multiple) of two numbers using a for loop."
   ]
  },
  {
   "cell_type": "code",
   "execution_count": 79,
   "id": "b7ef353d-977b-466c-9c74-682bfe0b9da2",
   "metadata": {
    "tags": []
   },
   "outputs": [
    {
     "name": "stdin",
     "output_type": "stream",
     "text": [
      "Enter the two numbers 15 25\n"
     ]
    },
    {
     "name": "stdout",
     "output_type": "stream",
     "text": [
      "The lcm of 15 and 25 is 75\n"
     ]
    }
   ],
   "source": [
    "# Method I\n",
    "def lcm_of_numnbers(a, b):\n",
    "    lcms = []\n",
    "    for i in range(1, a*b + 1):\n",
    "        if i % a == 0 and i % b == 0:\n",
    "            lcms.append(i)\n",
    "    lcm = lcms[0] if lcms else None\n",
    "    return lcm\n",
    "\n",
    "inp = input(\"Enter the two numbers\")\n",
    "a, b = map(int, inp.split())\n",
    "lcm = lcm_of_numnbers(a, b)\n",
    "print(f\"The lcm of {a} and {b} is {lcm}\")"
   ]
  },
  {
   "cell_type": "code",
   "execution_count": 80,
   "id": "2b9750af-072f-44bf-b18a-090ebf88d881",
   "metadata": {
    "tags": []
   },
   "outputs": [
    {
     "name": "stdin",
     "output_type": "stream",
     "text": [
      "Enter the two numbers separated by spaces:  15 25\n"
     ]
    },
    {
     "name": "stdout",
     "output_type": "stream",
     "text": [
      "The LCM of 15 and 25 is 75\n"
     ]
    }
   ],
   "source": [
    "# Method II\n",
    "\n",
    "def gcd(a, b):\n",
    "    while b:\n",
    "        a, b = b, a % b\n",
    "    return a\n",
    "\n",
    "def lcm_of_numbers(a, b):\n",
    "    if a == 0 or b == 0:\n",
    "        return None  \n",
    "    return (a * b) // gcd(a, b)\n",
    "\n",
    "\n",
    "inp = input(\"Enter the two numbers separated by spaces: \")\n",
    "a, b = map(int, inp.split())\n",
    "\n",
    "\n",
    "lcm = lcm_of_numbers(a, b)\n",
    "print(f\"The LCM of {a} and {b} is {lcm}\")"
   ]
  },
  {
   "cell_type": "markdown",
   "id": "cbcdecfc-cc91-46f8-a4b0-8e35bcb43b08",
   "metadata": {},
   "source": [
    "# If else statements"
   ]
  },
  {
   "cell_type": "markdown",
   "id": "520b4050-7d24-46a5-859a-374712ef783f",
   "metadata": {
    "tags": []
   },
   "source": [
    "1.\tWrite a Python program to check if a number is positive, negative, or zero using an if-else statement."
   ]
  },
  {
   "cell_type": "code",
   "execution_count": 86,
   "id": "b096f3d2-928f-463a-b104-7c71fc878434",
   "metadata": {
    "tags": []
   },
   "outputs": [
    {
     "name": "stdin",
     "output_type": "stream",
     "text": [
      "Enter the number -2\n"
     ]
    },
    {
     "name": "stdout",
     "output_type": "stream",
     "text": [
      "-2.0 is negative\n"
     ]
    }
   ],
   "source": [
    "num = float(input(\"Enter the number\"))\n",
    "\n",
    "if num < 0:\n",
    "    print(f\"{num} is negative\")\n",
    "elif num > 0:\n",
    "    print(f\"{num} is positive\")\n",
    "else:\n",
    "    print(f\"{num} is zero\")"
   ]
  },
  {
   "cell_type": "markdown",
   "id": "d633ae04-b368-4ad7-989e-778bf654c292",
   "metadata": {
    "tags": []
   },
   "source": [
    "2.\tCreate a Python program that checks if a given number is even or odd using an if-else statement."
   ]
  },
  {
   "cell_type": "code",
   "execution_count": 88,
   "id": "0ac5eb7a-27ef-4ae6-ac1f-14a032f85e15",
   "metadata": {
    "tags": []
   },
   "outputs": [
    {
     "name": "stdin",
     "output_type": "stream",
     "text": [
      "Enter the number -1\n"
     ]
    },
    {
     "name": "stdout",
     "output_type": "stream",
     "text": [
      "Please enter the valid number\n"
     ]
    }
   ],
   "source": [
    "num = int(input(\"Enter the number\"))\n",
    "\n",
    "if num <= 0:\n",
    "    print(\"Please enter the valid number\")\n",
    "else:\n",
    "    if num % 2 == 0:\n",
    "        print(f\"{num} is even\")\n",
    "    else:\n",
    "        print(f\"{num} is odd\")"
   ]
  },
  {
   "cell_type": "markdown",
   "id": "5b08718c-0184-4007-bcef-170cfd91fcca",
   "metadata": {},
   "source": [
    "3.\tHow can you use nested if-else statements in Python, and provide an example?"
   ]
  },
  {
   "cell_type": "markdown",
   "id": "d533dd04-f7fe-4295-bfdd-f16ae7691bcd",
   "metadata": {},
   "source": [
    "* If there are multiple conditions involved one inside another then we use nested if else statements."
   ]
  },
  {
   "cell_type": "code",
   "execution_count": 89,
   "id": "894fab03-fa5d-45ab-83eb-ae3c807108fc",
   "metadata": {
    "tags": []
   },
   "outputs": [
    {
     "name": "stdin",
     "output_type": "stream",
     "text": [
      "Enter the number of sides:  4\n"
     ]
    },
    {
     "name": "stdout",
     "output_type": "stream",
     "text": [
      "It's a quadrilateral.\n"
     ]
    },
    {
     "name": "stdin",
     "output_type": "stream",
     "text": [
      "Is it a square, rectangle, rhombus, or parallelogram?  parallelogram\n"
     ]
    },
    {
     "name": "stdout",
     "output_type": "stream",
     "text": [
      "It's a parallelogram.\n"
     ]
    }
   ],
   "source": [
    "# Example\n",
    "def determine_shape(sides):\n",
    "    if sides == 1:\n",
    "        print(\"It's a point.\")\n",
    "    elif sides == 2:\n",
    "        print(\"It's a line segment.\")\n",
    "    elif sides == 3:\n",
    "        print(\"It's a triangle.\")\n",
    "        \n",
    "        # Nested if-else for types of triangles\n",
    "        triangle_type = input(\"Is it equilateral, isosceles, or scalene? \").lower()\n",
    "        if triangle_type == 'equilateral':\n",
    "            print(\"It's an equilateral triangle.\")\n",
    "        elif triangle_type == 'isosceles':\n",
    "            print(\"It's an isosceles triangle.\")\n",
    "        elif triangle_type == 'scalene':\n",
    "            print(\"It's a scalene triangle.\")\n",
    "        else:\n",
    "            print(\"Invalid input for triangle type.\")\n",
    "            \n",
    "    elif sides == 4:\n",
    "        print(\"It's a quadrilateral.\")\n",
    "        \n",
    "        # Nested if-else for types of quadrilaterals\n",
    "        quadrilateral_type = input(\"Is it a square, rectangle, rhombus, or parallelogram? \").lower()\n",
    "        if quadrilateral_type == 'square':\n",
    "            print(\"It's a square.\")\n",
    "        elif quadrilateral_type == 'rectangle':\n",
    "            print(\"It's a rectangle.\")\n",
    "        elif quadrilateral_type == 'rhombus':\n",
    "            print(\"It's a rhombus.\")\n",
    "        elif quadrilateral_type == 'parallelogram':\n",
    "            print(\"It's a parallelogram.\")\n",
    "        else:\n",
    "            print(\"Invalid input for quadrilateral type.\")\n",
    "    \n",
    "    else:\n",
    "        print(\"It's a polygon with more than four sides.\")\n",
    "\n",
    "try:\n",
    "    num_sides = int(input(\"Enter the number of sides: \"))\n",
    "    determine_shape(num_sides)\n",
    "except ValueError:\n",
    "    print(\"Invalid input. Please enter a numerical value for the number of sides.\")"
   ]
  },
  {
   "cell_type": "markdown",
   "id": "77681230-9240-41c8-a783-5b042bd6a53d",
   "metadata": {},
   "source": [
    "4.\tWrite a Python program to determine the largest of three numbers using if-else."
   ]
  },
  {
   "cell_type": "code",
   "execution_count": 90,
   "id": "db81f53c-1d25-4f6a-9cb9-c89255f9056a",
   "metadata": {
    "tags": []
   },
   "outputs": [
    {
     "name": "stdin",
     "output_type": "stream",
     "text": [
      "Enter the three numbers 1 2 3\n"
     ]
    },
    {
     "name": "stdout",
     "output_type": "stream",
     "text": [
      "3 is the largest of the given three numbers\n"
     ]
    }
   ],
   "source": [
    "nums = input(\"Enter the three numbers\")\n",
    "\n",
    "a, b, c = map(int, nums.split())\n",
    "\n",
    "if a > b and a > c:\n",
    "    print(f\"{a} is the largest of the given three numbers\")\n",
    "elif b > a and b > c:\n",
    "    print(f\"{b} is the largest of the given three numbers\")\n",
    "else:\n",
    "    print(f\"{c} is the largest of the given three numbers\")"
   ]
  },
  {
   "cell_type": "markdown",
   "id": "42f636c0-5ab4-4f01-b024-08412c9a4921",
   "metadata": {},
   "source": [
    "5.\tWrite a Python program that calculates the absolute value of a number using if-else."
   ]
  },
  {
   "cell_type": "code",
   "execution_count": 96,
   "id": "347a1de3-832b-46aa-82b1-f17278043138",
   "metadata": {
    "tags": []
   },
   "outputs": [
    {
     "name": "stdin",
     "output_type": "stream",
     "text": [
      "Enter the number -5\n"
     ]
    },
    {
     "name": "stdout",
     "output_type": "stream",
     "text": [
      "The absolute value of -5.0 is 5.0\n"
     ]
    }
   ],
   "source": [
    "num = float(input(\"Enter the number\"))\n",
    "\n",
    "if num < 0:\n",
    "    num1 = -num\n",
    "    print(f\"The absolute value of {num} is {num1}\")\n",
    "elif num > 0:\n",
    "    num = num\n",
    "    print(f\"The absolute value of {num} is {num}\")\n",
    "else:\n",
    "    print(f\"The absolute value of {num} is {num}\")"
   ]
  },
  {
   "cell_type": "markdown",
   "id": "30f965ed-9ba4-4a8e-935e-dcc60b4b0e74",
   "metadata": {},
   "source": [
    "6.\tCreate a Python program that checks if a given character is a vowel or consonant using if-else."
   ]
  },
  {
   "cell_type": "code",
   "execution_count": 99,
   "id": "e65d83cd-2d1e-4204-8433-24ba564d83a4",
   "metadata": {
    "tags": []
   },
   "outputs": [
    {
     "name": "stdin",
     "output_type": "stream",
     "text": [
      "Enter the character B\n"
     ]
    },
    {
     "name": "stdout",
     "output_type": "stream",
     "text": [
      "The character b is a consonant\n"
     ]
    }
   ],
   "source": [
    "character = input(\"Enter the character\")\n",
    "\n",
    "vowel_list = ['a', 'e', 'i', 'o', 'u']\n",
    "\n",
    "character = character.lower()\n",
    "\n",
    "if character in vowel_list:\n",
    "    print(f\"The character {character} is a vowel\")\n",
    "else:\n",
    "    print(f\"The character {character} is a consonant\")"
   ]
  },
  {
   "cell_type": "code",
   "execution_count": 98,
   "id": "53af9add-9ed3-4d2c-8d1f-d73b28798e2d",
   "metadata": {
    "tags": []
   },
   "outputs": [
    {
     "name": "stdin",
     "output_type": "stream",
     "text": [
      "Enter the string Chandrashekhar\n"
     ]
    },
    {
     "name": "stdout",
     "output_type": "stream",
     "text": [
      "The vowels in the given string are {'e', 'a'}\n"
     ]
    }
   ],
   "source": [
    "# We can also find the number of vowels in the given string\n",
    "vowel_list = ['a', 'e', 'i', 'o', 'u']\n",
    "\n",
    "string = input(\"Enter the string\")\n",
    "string = string.lower()\n",
    "string_vowels = []\n",
    "for char in string:\n",
    "    if char in vowel_list:\n",
    "        string_vowels.append(char)\n",
    "\n",
    "string_vowels = set(string_vowels)\n",
    "\n",
    "print(f\"The vowels in the given string are {string_vowels}\")"
   ]
  },
  {
   "cell_type": "markdown",
   "id": "00b5bc05-0dbf-4b99-baac-7795a98a36a7",
   "metadata": {},
   "source": [
    "7.\tWrite a Python program to determine if a user is eligible to vote based on their age using if-else."
   ]
  },
  {
   "cell_type": "code",
   "execution_count": 100,
   "id": "2e768996-328c-48b1-a9f1-79211c2a356b",
   "metadata": {
    "tags": []
   },
   "outputs": [],
   "source": [
    "def vote_eligibility(n):\n",
    "    if n < 0:\n",
    "        return \"Please enter a valid age\"\n",
    "    elif 18 <= n < 115:\n",
    "        return \"Person is eligible to vote\"\n",
    "    else:\n",
    "        return \"Person is not eligible to vote\""
   ]
  },
  {
   "cell_type": "code",
   "execution_count": 101,
   "id": "a3b631ae-2329-460a-8077-a175b29b46f4",
   "metadata": {
    "tags": []
   },
   "outputs": [
    {
     "name": "stdin",
     "output_type": "stream",
     "text": [
      "Enter the age of person 10\n"
     ]
    },
    {
     "name": "stdout",
     "output_type": "stream",
     "text": [
      "Person is not eligible to vote\n"
     ]
    }
   ],
   "source": [
    "n = float(input(\"Enter the age of person\"))\n",
    "eligibility = vote_eligibility(n)\n",
    "print(eligibility)"
   ]
  },
  {
   "cell_type": "code",
   "execution_count": 103,
   "id": "fe59781f-5ad2-4af7-a450-4ccdf04c341e",
   "metadata": {
    "tags": []
   },
   "outputs": [
    {
     "name": "stdin",
     "output_type": "stream",
     "text": [
      "Enter the age of person 18.5\n"
     ]
    },
    {
     "name": "stdout",
     "output_type": "stream",
     "text": [
      "Person is eligible to vote\n"
     ]
    }
   ],
   "source": [
    "n = float(input(\"Enter the age of person\"))\n",
    "eligibility = vote_eligibility(n)\n",
    "print(eligibility)"
   ]
  },
  {
   "cell_type": "markdown",
   "id": "24a084ee-a023-42e3-b103-5177c4ff2f1f",
   "metadata": {},
   "source": [
    "8.\tCreate a Python program that calculates the discount amount based on the purchase amount using if-else."
   ]
  },
  {
   "cell_type": "code",
   "execution_count": 107,
   "id": "50fc402f-28f9-45d5-8ca7-a70b286fd8f0",
   "metadata": {
    "tags": []
   },
   "outputs": [
    {
     "name": "stdin",
     "output_type": "stream",
     "text": [
      "Enter the purchase amount: $ 150\n"
     ]
    },
    {
     "name": "stdout",
     "output_type": "stream",
     "text": [
      "Discount amount: $7.50    \n",
      "Final purchase amount: $142.50\n"
     ]
    }
   ],
   "source": [
    "def calculate_discount(purchase_amount):\n",
    "    if purchase_amount < 100:\n",
    "        discount_percentage = 0\n",
    "    elif purchase_amount < 500:\n",
    "        discount_percentage = 5\n",
    "    elif purchase_amount < 1000:\n",
    "        discount_percentage = 10\n",
    "    else:\n",
    "        discount_percentage = 15\n",
    "\n",
    "    discount_amount = (discount_percentage / 100) * purchase_amount\n",
    "    return discount_amount\n",
    "\n",
    "try:\n",
    "    purchase_amount = float(input(\"Enter the purchase amount: $\"))\n",
    "    if purchase_amount >= 0:\n",
    "        discount = calculate_discount(purchase_amount)\n",
    "        print(f\"\"\"Discount amount: ${discount:.2f}    \n",
    "Final purchase amount: ${(purchase_amount - discount):.2f}\"\"\")\n",
    "    else:\n",
    "        print(\"Invalid input. Purchase amount should be a non-negative number.\")\n",
    "except ValueError:\n",
    "    print(\"Invalid input. Please enter a numerical value for the purchase amount.\")"
   ]
  },
  {
   "cell_type": "markdown",
   "id": "4884a23d-7d89-4038-b575-ab2e3e04ffa6",
   "metadata": {},
   "source": [
    "9.\tWrite a Python program to check if a number is within a specified range using if-else."
   ]
  },
  {
   "cell_type": "code",
   "execution_count": 110,
   "id": "3aa7307f-ef47-49e5-87fa-5b086fb9dba4",
   "metadata": {
    "tags": []
   },
   "outputs": [
    {
     "name": "stdin",
     "output_type": "stream",
     "text": [
      "Enter the number 150\n"
     ]
    },
    {
     "name": "stdout",
     "output_type": "stream",
     "text": [
      "150.0 is in the range 100-200\n"
     ]
    }
   ],
   "source": [
    "num = float(input(\"Enter the number\"))\n",
    "\n",
    "if num < 0:\n",
    "    print(f\"{num} is negative\")\n",
    "elif 0 <= num < 100:\n",
    "    print(f\"{num} is in the range 0-100\")\n",
    "elif 100 <= num < 200:\n",
    "    print(f\"{num} is in the range 100-200\")\n",
    "elif 200 <= num < 300:\n",
    "    print(f\"{num} is in the range 200-300\")\n",
    "elif 300 <= num < 400:\n",
    "    print(f\"{num} is in the range 300-400\")\n",
    "elif 400 <= num < 500:\n",
    "    print(f\"{num} is in the range 400-500\")\n",
    "else:\n",
    "    print(f\"{num} is greater than 500\")"
   ]
  },
  {
   "cell_type": "markdown",
   "id": "4d36d578-6e66-4b18-9e33-427d441faaa3",
   "metadata": {},
   "source": [
    "10.\tCreate a Python program that determines the grade of a student based on their score using if-else."
   ]
  },
  {
   "cell_type": "code",
   "execution_count": 111,
   "id": "0815e8fd-1c78-4aa7-9951-6ba706e3159d",
   "metadata": {
    "tags": []
   },
   "outputs": [
    {
     "name": "stdin",
     "output_type": "stream",
     "text": [
      "Enter your Score 75\n"
     ]
    },
    {
     "name": "stdout",
     "output_type": "stream",
     "text": [
      "You scored 75 and your grade is 'C'\n"
     ]
    }
   ],
   "source": [
    "def grading(score):\n",
    "    if 0 <= score <= 100:\n",
    "        if 0 <= score < 35:\n",
    "            return f\"You scored {score} and you are fail\"\n",
    "        elif 35 <= score <= 50:\n",
    "            return f\"You scored {score} and your grade is 'pass'\"\n",
    "        elif 50 <= score < 60:\n",
    "            return f\"You scored {score} and your grade is 'E'\" \n",
    "        elif 60 <= score < 70:\n",
    "            return f\"You scored {score} and your grade is 'D'\"\n",
    "        elif 70 <= score < 80:\n",
    "            return f\"You scored {score} and your grade is 'C'\"\n",
    "        elif 80 <= score < 90:\n",
    "            return f\"You scored {score} and your grade is 'B'\"\n",
    "        elif 90 <= score < 100:\n",
    "            return f\"You scored {score} and your grade is 'A'\"\n",
    "    else:\n",
    "        return \"Please enter a valid score\"\n",
    "\n",
    "score = int(input(\"Enter your Score\"))\n",
    "result = grading(score)\n",
    "print(result)"
   ]
  },
  {
   "cell_type": "markdown",
   "id": "dca75e04-6c3a-4263-ac6c-470942f200f7",
   "metadata": {
    "tags": []
   },
   "source": [
    "11.\tWrite a Python program to check if a string is empty or not using if-else."
   ]
  },
  {
   "cell_type": "code",
   "execution_count": 114,
   "id": "6c551698-a87c-4997-a99e-17d34d53ff4c",
   "metadata": {
    "tags": []
   },
   "outputs": [
    {
     "name": "stdin",
     "output_type": "stream",
     "text": [
      "Enter a string:  \n"
     ]
    },
    {
     "name": "stdout",
     "output_type": "stream",
     "text": [
      "The string is empty.\n"
     ]
    }
   ],
   "source": [
    "# Taking input from the user\n",
    "user_input = input(\"Enter a string: \")\n",
    "\n",
    "# Checking if the string is empty or not\n",
    "if user_input:\n",
    "    print(\"The string is not empty.\")\n",
    "else:\n",
    "    print(\"The string is empty.\")"
   ]
  },
  {
   "cell_type": "markdown",
   "id": "e8855cab-1f6c-414f-93c3-0b942cb99d89",
   "metadata": {},
   "source": [
    "12.\tCreate a Python program that identifies the type of a triangle (e.g., equilateral, isosceles, or scalene) based on input values using if-else."
   ]
  },
  {
   "cell_type": "code",
   "execution_count": 119,
   "id": "a7521d57-8925-4369-9dbc-5090ea84cf65",
   "metadata": {
    "tags": []
   },
   "outputs": [
    {
     "name": "stdin",
     "output_type": "stream",
     "text": [
      "Enter the sides of triangle 3 4 5\n"
     ]
    },
    {
     "name": "stdout",
     "output_type": "stream",
     "text": [
      "The given triangle is scalene\n"
     ]
    }
   ],
   "source": [
    "a, b, c = map(float, input(\"Enter the sides of triangle\").split())\n",
    "\n",
    "if a == b == c:\n",
    "    print(\"The given triangle is equilateral\")\n",
    "elif (a == b or b == c or a == c):\n",
    "    print(\"The given triangle is isosceles\")\n",
    "else:\n",
    "    print(\"The given triangle is scalene\")"
   ]
  },
  {
   "cell_type": "markdown",
   "id": "97e182d4-6665-48d5-b446-b7e9cb7b8ba9",
   "metadata": {
    "tags": []
   },
   "source": [
    "13.\tWrite a Python program to determine the day of the week based on a user-provided number using if-else."
   ]
  },
  {
   "cell_type": "code",
   "execution_count": 7,
   "id": "f5713656-6c5b-4b32-a818-e36fec4ab34d",
   "metadata": {
    "tags": []
   },
   "outputs": [
    {
     "name": "stdin",
     "output_type": "stream",
     "text": [
      "Enter an integer greater than 0:  5\n"
     ]
    },
    {
     "name": "stdout",
     "output_type": "stream",
     "text": [
      "Weekday corresponding to number 5 is Friday\n"
     ]
    }
   ],
   "source": [
    "num = int(input(\"Enter an integer greater than 0: \"))\n",
    "\n",
    "num = num % 7\n",
    "\n",
    "weekdays = ['Monday', 'Tuesday', 'Wednesday', 'Thursday', 'Friday', 'Saturday', 'Sunday']\n",
    "\n",
    "if num < 0:\n",
    "    print(\"Please enter the positive integer\")\n",
    "else:\n",
    "    weekday = weekdays[num - 1]\n",
    "\n",
    "print(f\"Weekday corresponding to number {num} is {weekday}\")"
   ]
  },
  {
   "cell_type": "markdown",
   "id": "ac557ef1-8563-42d8-a59c-6211cd0d63ce",
   "metadata": {},
   "source": [
    "14.\tCreate a Python program that checks if a given year is a leap year using both if-else and a function."
   ]
  },
  {
   "cell_type": "code",
   "execution_count": 8,
   "id": "2202bc5d-d2ce-495b-9a6e-c42313fda318",
   "metadata": {},
   "outputs": [
    {
     "name": "stdin",
     "output_type": "stream",
     "text": [
      "Enter an year 2023\n"
     ]
    },
    {
     "name": "stdout",
     "output_type": "stream",
     "text": [
      "The year 2023 is not a leap year\n"
     ]
    }
   ],
   "source": [
    "def is_leap_year(year):\n",
    "    if (year % 4 == 0 and year % 100 != 0) or (year % 400 == 0):\n",
    "        return True\n",
    "    else:\n",
    "        return False\n",
    "    \n",
    "year = int(input(\"Enter an year\"))\n",
    "\n",
    "if is_leap_year(year):\n",
    "    print(f\"The year {year} is a leap year\")\n",
    "else:\n",
    "    print(f\"The year {year} is not a leap year\")"
   ]
  },
  {
   "cell_type": "markdown",
   "id": "f71cb1d1-da16-4862-bb12-211cef0b7c39",
   "metadata": {},
   "source": [
    "15.\tHow do you use the \"assert\" statement in Python to add debugging checks within if-else blocks?"
   ]
  },
  {
   "cell_type": "markdown",
   "id": "8e9aa5c9-195b-44dc-8892-3e28f6550df6",
   "metadata": {},
   "source": [
    "* In Python, the assert statement is used for debugging purposes to check whether a given condition is True. If the condition is False, an        AssertionError exception is raised."
   ]
  },
  {
   "cell_type": "markdown",
   "id": "a264fc18-841c-44b6-8ee2-cb1c4cba673c",
   "metadata": {},
   "source": [
    "* In the below example, the assert statement checks whether the denominator is not zero before performing the division operation. If the condition b != 0    is False, an AssertionError is raised with the specified message."
   ]
  },
  {
   "cell_type": "code",
   "execution_count": 9,
   "id": "281953d1-4b52-430f-b364-b8bb7d686769",
   "metadata": {},
   "outputs": [
    {
     "name": "stdout",
     "output_type": "stream",
     "text": [
      "Error: Denominator cannot be zero\n"
     ]
    }
   ],
   "source": [
    "# We can use the assert statement within if-else blocks to add debugging checks\n",
    "\n",
    "def divide(a, b):\n",
    "    assert b != 0, \"Cannot divide by zero\"\n",
    "    result = a / b\n",
    "    return result\n",
    "\n",
    "# Example usage\n",
    "numerator = 10\n",
    "denominator = 0\n",
    "\n",
    "if denominator != 0:\n",
    "    result = divide(numerator, denominator)\n",
    "    print(\"Result:\", result)\n",
    "else:\n",
    "    print(\"Error: Denominator cannot be zero\")"
   ]
  },
  {
   "cell_type": "markdown",
   "id": "37e2368f-ff73-4270-b7d9-5ae217b41514",
   "metadata": {},
   "source": [
    "16.\tCreate a Python program that determines the eligibility of a person for a senior citizen discount based on age using if-else."
   ]
  },
  {
   "cell_type": "code",
   "execution_count": 3,
   "id": "0af979ce-bfc0-48fe-88ca-fb5f2b31f57e",
   "metadata": {},
   "outputs": [
    {
     "name": "stdin",
     "output_type": "stream",
     "text": [
      "Enter your age:  62\n",
      "Enter the bill amount 500\n"
     ]
    },
    {
     "name": "stdout",
     "output_type": "stream",
     "text": [
      "Congratulations! You are eligible for a senior citizen discount.\n",
      "Your bill is 500.0\n",
      "Percentage discount applied = 5%\n",
      "Your final bill is 475.0\n"
     ]
    }
   ],
   "source": [
    "def check_senior_discount(age, bill):\n",
    "    # Define the age threshold for senior citizen discount\n",
    "    senior_age_threshold = 60\n",
    "    \n",
    "    if age >= senior_age_threshold:\n",
    "        print(\"Congratulations! You are eligible for a senior citizen discount.\")\n",
    "        print(f\"Your bill is {bill}\")\n",
    "        print(\"Percentage discount applied = 5%\")\n",
    "        final_bill = np.round((95/100)*bill, 2)\n",
    "        print(f\"Your final bill is {final_bill}\")\n",
    "    else:\n",
    "        print(\"Sorry, you are not eligible for a senior citizen discount.\")\n",
    "\n",
    "try:\n",
    "    age = int(input(\"Enter your age: \"))\n",
    "    bill = float(input(\"Enter the bill amount\"))\n",
    "    \n",
    "    if age < 0:\n",
    "        print(\"Invalid age. Please enter a positive integer.\")\n",
    "    else:\n",
    "        check_senior_discount(age, bill)\n",
    "\n",
    "except ValueError:\n",
    "    print(\"Invalid input. Please enter a valid age as a positive integer.\")"
   ]
  },
  {
   "cell_type": "markdown",
   "id": "e60b6f6d-380d-4796-abf8-2b0bc8575855",
   "metadata": {},
   "source": [
    "17.\tWrite a Python program to categorize a given character as uppercase, lowercase, or neither using if-else."
   ]
  },
  {
   "cell_type": "code",
   "execution_count": 10,
   "id": "310d288f-b4a0-4c25-b9ae-a8d24aabf4db",
   "metadata": {},
   "outputs": [
    {
     "name": "stdin",
     "output_type": "stream",
     "text": [
      "Enter the character #\n"
     ]
    },
    {
     "name": "stdout",
     "output_type": "stream",
     "text": [
      "# is a special character.\n"
     ]
    }
   ],
   "source": [
    "char = input(\"Enter the character\")\n",
    "\n",
    "if str(char).isnumeric():\n",
    "    print(f\"The variable {char} is a number.\")\n",
    "elif char.isupper():\n",
    "    print(f\"{char} is an uppercase character.\")\n",
    "elif char.islower():\n",
    "    print(f\"{char} is a lowercase character.\")\n",
    "else:\n",
    "    print(f\"{char} is a special character.\")"
   ]
  },
  {
   "cell_type": "markdown",
   "id": "5cb4a284-4ba3-45db-a188-1040ad06f723",
   "metadata": {},
   "source": [
    "18.\tWrite a Python program to determine the roots of a quadratic equation using if-else."
   ]
  },
  {
   "cell_type": "code",
   "execution_count": 11,
   "id": "acc86baa-9352-4158-922a-ad6d7dfe9508",
   "metadata": {},
   "outputs": [
    {
     "name": "stdin",
     "output_type": "stream",
     "text": [
      "Enter coefficients a, b, c separated by spaces:  1 2 1\n"
     ]
    },
    {
     "name": "stdout",
     "output_type": "stream",
     "text": [
      "The roots of quadratic equation 1.0x**2 + 2.0*x + 1.0 are real and equal: (-1.0, -1.0)\n"
     ]
    }
   ],
   "source": [
    "input_numbers = input(\"Enter coefficients a, b, c separated by spaces: \")\n",
    "\n",
    "numbers = [float(num) for num in input_numbers.split()]\n",
    "\n",
    "a = numbers[0]\n",
    "b = numbers[1]\n",
    "c = numbers[2]\n",
    "\n",
    "# quad_eq = ax**2 + b*x + c\n",
    "# We can define a function for increased efficiency\n",
    "\n",
    "def quadratic_solver(a, b, c):\n",
    "    discriminant = b**2 - 4*a*c  # let's calculate discriminant first\n",
    "    if discriminant > 0:\n",
    "        x1 = np.round((-b + np.sqrt(discriminant)) / (2*a), 2)\n",
    "        x2 = np.round((-b - np.sqrt(discriminant)) / (2*a), 2)\n",
    "        return f\"The roots of quadratic equation {a}x**2 + {b}*x + {c} are real: {(x1, x2)}\"\n",
    "    elif discriminant == 0:\n",
    "        x1 = x2 = np.round((-b)/(2*a), 2)\n",
    "        return f\"The roots of quadratic equation {a}x**2 + {b}*x + {c} are real and equal: {(x1, x2)}\"\n",
    "    else:\n",
    "        # Calculate imaginary roots using complex numbers\n",
    "        x1 = np.round((-b + np.sqrt(abs(discriminant))*1j) / (2*a),2)\n",
    "        x2 = np.round((-b - np.sqrt(abs(discriminant))*1j) / (2*a),2)\n",
    "        return f\"The roots of quadratic equation {a}x**2 + {b}*x + {c} are complex: {(x1, x2)}\"\n",
    "\n",
    "result = quadratic_solver(a, b, c)\n",
    "print(result)"
   ]
  },
  {
   "cell_type": "markdown",
   "id": "1ad505c5-8bfc-46f0-8208-229e739684c0",
   "metadata": {},
   "source": [
    "19.\tCreate a Python program that checks if a given year is a century year or not using if-else."
   ]
  },
  {
   "cell_type": "code",
   "execution_count": 12,
   "id": "96b31df5-6c2a-4f2c-872f-c16bcebe7117",
   "metadata": {},
   "outputs": [],
   "source": [
    "# Program for both leap year and century year\n",
    "# Define a function to identify leap year or not\n",
    "def is_leap(year):\n",
    "    if year % 400 == 0:\n",
    "        return f\"{year} is a leap year and also a century year\"\n",
    "    elif year % 100 == 0 and year % 400 != 0:\n",
    "        return f\"{year} is a century year but not a leap year\"\n",
    "    elif year % 4 == 0 and year % 100 != 0:\n",
    "        return f\"{year} is a leap year but not a century year\"\n",
    "    else:\n",
    "        return f\"{year} is neither a leap year nor a century year\""
   ]
  },
  {
   "cell_type": "code",
   "execution_count": 13,
   "id": "c2889ec4-a003-47ae-8240-23d80e59f3b9",
   "metadata": {},
   "outputs": [
    {
     "name": "stdin",
     "output_type": "stream",
     "text": [
      "Enter the year 2000\n"
     ]
    },
    {
     "name": "stdout",
     "output_type": "stream",
     "text": [
      "2000 is a leap year and also a century year\n"
     ]
    }
   ],
   "source": [
    "year = int(input(\"Enter the year\"))\n",
    "result = is_leap(year)\n",
    "print(result)"
   ]
  },
  {
   "cell_type": "code",
   "execution_count": 14,
   "id": "ec61f7f9-c2db-4628-8ef8-ebd370a89319",
   "metadata": {},
   "outputs": [
    {
     "name": "stdin",
     "output_type": "stream",
     "text": [
      "Enter the year 1900\n"
     ]
    },
    {
     "name": "stdout",
     "output_type": "stream",
     "text": [
      "1900 is a century year\n"
     ]
    }
   ],
   "source": [
    "# Program for century year only\n",
    "year = int(input(\"Enter the year\"))\n",
    "if year % 100 == 0:\n",
    "    print(f\"{year} is a century year\")\n",
    "else:\n",
    "    print(f\"{year} is not a century year\")"
   ]
  },
  {
   "cell_type": "markdown",
   "id": "574c15b1-00ff-42f3-86ab-f2ef97d1ec88",
   "metadata": {},
   "source": [
    "20.\tWrite a Python program to determine if a given number is a perfect square using if-else."
   ]
  },
  {
   "cell_type": "code",
   "execution_count": 20,
   "id": "e154898d-6661-4ca6-8692-9f6dfdf11172",
   "metadata": {},
   "outputs": [
    {
     "name": "stdin",
     "output_type": "stream",
     "text": [
      "Enter the number:  36\n"
     ]
    },
    {
     "name": "stdout",
     "output_type": "stream",
     "text": [
      "36 is a perfect square\n"
     ]
    }
   ],
   "source": [
    "num = int(input(\"Enter the number: \"))\n",
    "x = np.sqrt(num)\n",
    "if x == int(x):\n",
    "    print(f\"{num} is a perfect square\")\n",
    "else:\n",
    "    print(f\"{num} is not a perfect square\")"
   ]
  },
  {
   "cell_type": "markdown",
   "id": "1a47d959-4af6-4066-ac93-13b886de6a43",
   "metadata": {},
   "source": [
    "21.\tExplain the purpose of the \"continue\" and \"break\" statements within if-else loops."
   ]
  },
  {
   "cell_type": "markdown",
   "id": "16b63619-129e-40dc-a484-f9b891494b4e",
   "metadata": {},
   "source": [
    "* continue statement:    \n",
    "  The continue statement is used to skip the rest of the code inside a loop for the current iteration and move to the next iteration.    \n",
    "  It is typically used when a certain condition is met, and we want to skip the remaining code for the current iteration."
   ]
  },
  {
   "cell_type": "code",
   "execution_count": 21,
   "id": "e7586703-415f-4b4d-9f35-513f53d126a1",
   "metadata": {},
   "outputs": [
    {
     "name": "stdout",
     "output_type": "stream",
     "text": [
      "1\n",
      "3\n",
      "5\n",
      "7\n",
      "9\n"
     ]
    }
   ],
   "source": [
    "# Example of continue\n",
    "for i in range(1, 11):\n",
    "    if i % 2 == 0:\n",
    "        continue  # Skip even numbers\n",
    "    print(i)"
   ]
  },
  {
   "cell_type": "markdown",
   "id": "491036f4-2972-4a1b-b04e-62a3a4154051",
   "metadata": {},
   "source": [
    "* break statement:    \n",
    "The break statement is used to exit a loop prematurely when a certain condition is met.    \n",
    "It allows us to terminate the loop entirely, regardless of whether the loop has completed all iterations.    "
   ]
  },
  {
   "cell_type": "code",
   "execution_count": 22,
   "id": "3bffb67a-0ec0-4d61-b5ea-5314d1e2c279",
   "metadata": {},
   "outputs": [
    {
     "name": "stdout",
     "output_type": "stream",
     "text": [
      "1\n",
      "2\n",
      "3\n",
      "4\n",
      "Found the target number 5!\n"
     ]
    }
   ],
   "source": [
    "# Example of break statement\n",
    "target_number = 5\n",
    "for i in range(1, 11):\n",
    "    if i == target_number:\n",
    "        print(f\"Found the target number {target_number}!\")\n",
    "        break  # Exit the loop when the target number is found\n",
    "    print(i)"
   ]
  },
  {
   "cell_type": "markdown",
   "id": "d0a78758-44a6-4559-ad67-c006ee28ba89",
   "metadata": {},
   "source": [
    "22.\tCreate a Python program that calculates the BMI (Body Mass Index) of a person based on their weight and height using if-else."
   ]
  },
  {
   "cell_type": "code",
   "execution_count": 23,
   "id": "ccaca406-fe36-4b28-85ef-cdff4b2ccb07",
   "metadata": {},
   "outputs": [
    {
     "name": "stdin",
     "output_type": "stream",
     "text": [
      "Enter your height and weight 1.7 72\n"
     ]
    },
    {
     "name": "stdout",
     "output_type": "stream",
     "text": [
      "Your BMI is: 24.91\n",
      "Your weight is Normal\n"
     ]
    }
   ],
   "source": [
    "def calculate_bmi(height, weight):\n",
    "    bmi = weight / (height**2)\n",
    "    return bmi\n",
    "\n",
    "inputs = input(\"Enter your height in meters and weight in kg\")\n",
    "\n",
    "X = [float(num) for num in inputs.split()]\n",
    "\n",
    "height = X[0]\n",
    "weight = X[1]\n",
    "\n",
    "bmi = calculate_bmi(height, weight)\n",
    "print(\"Your BMI is:\", np.round(bmi, 2))\n",
    "\n",
    "def categorize_bmi(bmi):\n",
    "    if bmi < 18.5:\n",
    "        return \"You are Underweight\"\n",
    "    elif 18.5 <= bmi < 25:\n",
    "        return \"Your weight is Normal\"\n",
    "    elif 25 <= bmi < 30:\n",
    "        return \"You are Overweight\"\n",
    "    else:\n",
    "        return \"You are Obese\"\n",
    "\n",
    "result = categorize_bmi(bmi)\n",
    "print(result)"
   ]
  },
  {
   "cell_type": "markdown",
   "id": "e66f154d-639b-4abc-9749-f43c40fa91a6",
   "metadata": {},
   "source": [
    "23.\tHow can you use the \"filter()\" function with if-else statements to filter elements from a list?"
   ]
  },
  {
   "cell_type": "markdown",
   "id": "3f8b7662-f45d-4716-9f11-45c15025ed6b",
   "metadata": {},
   "source": [
    "* The filter() function in Python is often used in combination with a function that returns a boolean value. The filter() function then filters    \n",
    "elements from an iterable based on the truthiness of the values returned by the provided function. While if-else statements are not directly used     within the filter() function, we can achieve the desired filtering behavior by defining a custom function with if-else logic and using it as the     filtering criterion."
   ]
  },
  {
   "cell_type": "code",
   "execution_count": 24,
   "id": "29792a1c-5a88-4467-b815-70f7cc1eeeb3",
   "metadata": {},
   "outputs": [
    {
     "name": "stdout",
     "output_type": "stream",
     "text": [
      "Original list: [1, 2, 3, 4, 5, 6, 7, 8, 9, 10]\n",
      "Filtered list (even numbers): [2, 4, 6, 8, 10]\n"
     ]
    }
   ],
   "source": [
    "def is_even(number):\n",
    "    if number % 2 == 0:\n",
    "        return True  # Include even numbers\n",
    "    else:\n",
    "        return False  # Exclude odd numbers\n",
    "\n",
    "numbers = [1, 2, 3, 4, 5, 6, 7, 8, 9, 10]\n",
    "\n",
    "filtered_numbers = filter(is_even, numbers)\n",
    "\n",
    "result_list = list(filtered_numbers)\n",
    "\n",
    "print(\"Original list:\", numbers)\n",
    "print(\"Filtered list (even numbers):\", result_list)"
   ]
  },
  {
   "cell_type": "markdown",
   "id": "ee9b0002-9679-4b77-8765-871c9748c3e2",
   "metadata": {},
   "source": [
    "24.\tWrite a Python program to determine if a given number is prime or not using if-else."
   ]
  },
  {
   "cell_type": "code",
   "execution_count": 25,
   "id": "5ed62d74-700f-4247-ac54-f1c201b9c67f",
   "metadata": {},
   "outputs": [],
   "source": [
    "def is_prime_number(n):\n",
    "    if n == 1:\n",
    "        return False\n",
    "    elif n == 2:\n",
    "        return True\n",
    "    else:\n",
    "        for i in range(2, int(np.sqrt(n)) + 1):\n",
    "            if n % i == 0:\n",
    "                return False\n",
    "        return True"
   ]
  },
  {
   "cell_type": "code",
   "execution_count": 26,
   "id": "84b968b4-35be-4884-bda6-c7af943f43df",
   "metadata": {},
   "outputs": [
    {
     "name": "stdin",
     "output_type": "stream",
     "text": [
      "Enter an integer 25\n"
     ]
    },
    {
     "name": "stdout",
     "output_type": "stream",
     "text": [
      "25 is not a prime number\n"
     ]
    }
   ],
   "source": [
    "n = int(input(\"Enter an integer\"))\n",
    "if is_prime_number(n):\n",
    "    print(f\"{n} is a prime number\")\n",
    "else:\n",
    "    print(f\"{n} is not a prime number\")"
   ]
  },
  {
   "cell_type": "markdown",
   "id": "1f50c5eb-53e9-48c5-af5a-63566cf7b964",
   "metadata": {},
   "source": [
    "# Map"
   ]
  },
  {
   "cell_type": "markdown",
   "id": "50c7e023-2abd-4108-9441-66ba2a1828e3",
   "metadata": {},
   "source": [
    "1.\tExplain the purpose of the `map()` function in Python and provide an example of how it can be used to apply a function to each element of an iterable."
   ]
  },
  {
   "cell_type": "markdown",
   "id": "0c6aa436-7bcd-4827-820d-279e7d4730b5",
   "metadata": {},
   "source": [
    "* The map() function in Python is used to apply a specified function to all the items in an iterable (e.g., a list, tuple, or string) and return an   \n",
    "iterator that produces the results. The map() function takes two arguments: the function to apply and the iterable on which to apply the function."
   ]
  },
  {
   "cell_type": "code",
   "execution_count": 27,
   "id": "c5e3dc56-b9d4-4c82-9399-d674b7a23a58",
   "metadata": {},
   "outputs": [
    {
     "name": "stdout",
     "output_type": "stream",
     "text": [
      "Original list: [1, 2, 3, 4, 5]\n",
      "Squared list: [1, 4, 9, 16, 25]\n"
     ]
    }
   ],
   "source": [
    "# Define a function to square a number\n",
    "def square(x):\n",
    "    return x ** 2\n",
    "\n",
    "numbers = [1, 2, 3, 4, 5]\n",
    "\n",
    "# Use the map() function to square each element in the list\n",
    "squared_numbers = map(square, numbers)\n",
    "\n",
    "# Convert the result to a list\n",
    "result_list = list(squared_numbers)\n",
    "\n",
    "# Print the original and squared numbers\n",
    "print(\"Original list:\", numbers)\n",
    "print(\"Squared list:\", result_list)"
   ]
  },
  {
   "cell_type": "markdown",
   "id": "6a2e373a-e582-4830-80df-4874e4662504",
   "metadata": {},
   "source": [
    "2. Write a Python program that uses the `map()` function to square each element of a list of numbers."
   ]
  },
  {
   "cell_type": "markdown",
   "id": "8172379b-c394-4897-8ccb-238875f5e6a1",
   "metadata": {},
   "source": [
    "* Note: Example is already given above"
   ]
  },
  {
   "cell_type": "markdown",
   "id": "7e327ffa-01c1-40cb-9e5f-e3fc54641c52",
   "metadata": {},
   "source": [
    "3.\tHow does the `map()` function differ from a list comprehension in Python, and when would you choose one over the other?"
   ]
  },
  {
   "cell_type": "markdown",
   "id": "638f6a48-b6a2-4ff0-beed-8b911ec89664",
   "metadata": {},
   "source": [
    "* Both the map() function and list comprehensions in Python are used to apply a function to each element of an iterable, but they have some differences in terms of syntax and use cases."
   ]
  },
  {
   "cell_type": "markdown",
   "id": "de31e037-9e77-43a9-b413-52817d0112b2",
   "metadata": {},
   "source": [
    "### map() Function:"
   ]
  },
  {
   "cell_type": "markdown",
   "id": "88d97776-7260-4eca-81ae-640b295ac6b5",
   "metadata": {},
   "source": [
    "* Return Type:\n",
    "  Returns an iterator.\n",
    "\n",
    "* Use Case:    \n",
    "  Well-suited for applying a function to each element of an iterable and obtaining an iterator with the results.    \n",
    "  Useful when you want to transform all elements of an iterable using a specified function."
   ]
  },
  {
   "cell_type": "code",
   "execution_count": 29,
   "id": "4468af26-a0e3-480a-8362-e1dbaacd752c",
   "metadata": {},
   "outputs": [
    {
     "name": "stdout",
     "output_type": "stream",
     "text": [
      "[1, 4, 9, 16, 25]\n"
     ]
    }
   ],
   "source": [
    "# Using map() to square each element in a list\n",
    "numbers = [1, 2, 3, 4, 5]\n",
    "squared_numbers = map(lambda x: x ** 2, numbers)\n",
    "result_list = list(squared_numbers)\n",
    "print(result_list)"
   ]
  },
  {
   "cell_type": "markdown",
   "id": "00b6f81c-33ba-4da9-8dcb-657bd217ddcb",
   "metadata": {
    "jp-MarkdownHeadingCollapsed": true
   },
   "source": [
    "### List Comprehension:"
   ]
  },
  {
   "cell_type": "markdown",
   "id": "c1609809-698e-4ae0-ba4a-c5986d4af728",
   "metadata": {},
   "source": [
    "* Return Type:\n",
    "  Returns a list.\n",
    "\n",
    "* Use Case:    \n",
    "  Well-suited for creating a new list by specifying an expression for each element in the iterable.    \n",
    "  Allows for a concise and readable way to generate lists."
   ]
  },
  {
   "cell_type": "code",
   "execution_count": 30,
   "id": "b0934650-ccd7-4539-9075-27f6c469c8f5",
   "metadata": {},
   "outputs": [
    {
     "name": "stdout",
     "output_type": "stream",
     "text": [
      "[1, 4, 9, 16, 25]\n"
     ]
    }
   ],
   "source": [
    "# Using list comprehension to square each element in a list\n",
    "numbers = [1, 2, 3, 4, 5]\n",
    "squared_numbers = [x ** 2 for x in numbers]\n",
    "print(squared_numbers)"
   ]
  },
  {
   "cell_type": "markdown",
   "id": "71dbc2b3-1a30-4c38-bc59-1a73f2bbbb6a",
   "metadata": {},
   "source": [
    "* Comparison:    \n",
    "1. Readability:    \n",
    "map() may be more readable when applying a function to an iterable, especially if the function logic is complex.    \n",
    "List comprehensions are often more concise and can be more readable when the transformation logic is simple.    \n",
    "\n",
    "2. Return Type:    \n",
    "If you specifically need an iterator, map() provides that, while list comprehensions always return a list.    \n",
    "\n",
    "3. Functionality:    \n",
    "map() can handle multiple iterable arguments if the function takes multiple arguments.    \n",
    "List comprehensions are more versatile for creating lists and can include conditional expressions.    \n",
    "\n",
    "4. Performance:    \n",
    "In terms of performance, the two approaches are generally similar. The choice between them often comes down to personal preference and the specific requirements of the task."
   ]
  },
  {
   "cell_type": "markdown",
   "id": "63f53220-5d7b-4ef8-8b28-ce5cc2f48ac8",
   "metadata": {},
   "source": [
    "* When to Choose One Over the Other:\n",
    "1. Use map() when:      \n",
    "Applying a function to each element of an iterable.    \n",
    "The function logic is complex or when working with multiple iterable arguments.    \n",
    "\n",
    "* Use list comprehensions when:    \n",
    "Creating a new list based on a concise expression for each element.    \n",
    "The transformation logic is straightforward.    \n",
    "\n",
    "* In practice, the choice between map() and list comprehensions often depends on the specific task and the readability of the resulting code. Both approaches are powerful and have their own strengths."
   ]
  },
  {
   "cell_type": "markdown",
   "id": "e6e4d621-2f6b-4b28-a9a5-a33c4c408682",
   "metadata": {},
   "source": [
    "4.\tCreate a Python program that uses the `map()` function to convert a list of names to uppercase."
   ]
  },
  {
   "cell_type": "code",
   "execution_count": 3,
   "id": "f6704080-d0cb-47b8-b59b-90b777a80d15",
   "metadata": {},
   "outputs": [
    {
     "name": "stdout",
     "output_type": "stream",
     "text": [
      "['CHANDRASHEKHAR', 'ANUJ', 'ARPAN', 'ASHUTOSH', 'AJAY']\n"
     ]
    }
   ],
   "source": [
    "names = ['Chandrashekhar', 'Anuj', 'Arpan', 'Ashutosh', 'Ajay']\n",
    "uppercase_names = map(lambda x: x.upper(), names)\n",
    "result_list = list(uppercase_names)\n",
    "print(result_list)"
   ]
  },
  {
   "cell_type": "markdown",
   "id": "9ec01a19-4384-4036-abe4-85bed6d3a59a",
   "metadata": {},
   "source": [
    "5.\tWrite a Python program that uses the `map()` function to calculate the length of each word in a list of strings."
   ]
  },
  {
   "cell_type": "code",
   "execution_count": 6,
   "id": "96552ac0-0b19-4fd0-af2a-7ae302d16864",
   "metadata": {},
   "outputs": [
    {
     "name": "stdout",
     "output_type": "stream",
     "text": [
      "length of word 'Chandrashekhar': 14\n",
      "length of word 'Anuj': 4\n",
      "length of word 'Arpan': 5\n",
      "length of word 'Ashutosh': 8\n",
      "length of word 'Ajay': 4\n",
      "length of word 'Kartik': 6\n"
     ]
    }
   ],
   "source": [
    "names = ['Chandrashekhar', 'Anuj', 'Arpan', 'Ashutosh', 'Ajay', 'Kartik']\n",
    "len_of_names = map(lambda x: len(x), names)\n",
    "result_list = list(len_of_names)\n",
    "for i in range(len(names)):\n",
    "    print(f\"length of word '{names[i]}': {result_list[i]}\")"
   ]
  },
  {
   "cell_type": "markdown",
   "id": "7a4dbe87-77c9-4009-873b-8f82d5a09fed",
   "metadata": {},
   "source": [
    "6.\tHow can you use the `map()` function to apply a custom function to elements of multiple lists simultaneously in Python?"
   ]
  },
  {
   "cell_type": "markdown",
   "id": "988e747e-12a8-441f-a94e-b44f60f5176b",
   "metadata": {},
   "source": [
    "* The map() function in Python can be used to apply a custom function to elements of multiple lists simultaneously by providing those lists as additional arguments to the map() function. The function should take as many arguments as there are lists provided."
   ]
  },
  {
   "cell_type": "code",
   "execution_count": 7,
   "id": "452b2c1c-5229-46dc-a3f1-e5c25f4ef957",
   "metadata": {},
   "outputs": [
    {
     "name": "stdout",
     "output_type": "stream",
     "text": [
      "List 1: [1, 2, 3, 4]\n",
      "List 2: [5, 6, 7, 8]\n",
      "Result: [6, 8, 10, 12]\n"
     ]
    }
   ],
   "source": [
    "# Custom function to add corresponding elements of two lists\n",
    "def add_lists_elementwise(x, y):\n",
    "    return x + y\n",
    "\n",
    "list1 = [1, 2, 3, 4]\n",
    "list2 = [5, 6, 7, 8]\n",
    "\n",
    "result = map(add_lists_elementwise, list1, list2)\n",
    "\n",
    "result_list = list(result)\n",
    "\n",
    "print(\"List 1:\", list1)\n",
    "print(\"List 2:\", list2)\n",
    "print(\"Result:\", result_list)"
   ]
  },
  {
   "cell_type": "markdown",
   "id": "6cd063c9-9fb1-4219-a298-9890c07783f0",
   "metadata": {},
   "source": [
    "7.\tCreate a Python program that uses `map()` to convert a list of temperatures from Celsius to Fahrenheit."
   ]
  },
  {
   "cell_type": "code",
   "execution_count": 12,
   "id": "5be90702-2167-4de3-bcf6-6d3a10ce914f",
   "metadata": {},
   "outputs": [
    {
     "name": "stdin",
     "output_type": "stream",
     "text": [
      "Enter the list of temperatures in degree Celcius (space-separated):  30 40 50 60\n"
     ]
    },
    {
     "name": "stdout",
     "output_type": "stream",
     "text": [
      "30.0 degree Celcius = 86.0 degree Fahrenheit\n",
      "40.0 degree Celcius = 104.0 degree Fahrenheit\n",
      "50.0 degree Celcius = 122.0 degree Fahrenheit\n",
      "60.0 degree Celcius = 140.0 degree Fahrenheit\n"
     ]
    }
   ],
   "source": [
    "def celcius_to_fahrenheit(celcius):\n",
    "    fahr = celcius * (9/5) + 32\n",
    "    return fahr\n",
    "\n",
    "# Input temperatures as a space-separated string\n",
    "cel_input = input(\"Enter the list of temperatures in degree Celcius (space-separated): \")\n",
    "\n",
    "# Split the input string into a list of temperatures\n",
    "cel_list = [float(temp) for temp in cel_input.split()]\n",
    "\n",
    "# Use map() to convert each temperature to Fahrenheit\n",
    "fahr_temp = map(celcius_to_fahrenheit, cel_list)\n",
    "\n",
    "fahr_temp_list = list(fahr_temp)\n",
    "for i in range(len(cel_list)):\n",
    "    print(f\"{cel_list[i]} degree Celcius = {fahr_temp_list[i]} degree Fahrenheit\")"
   ]
  },
  {
   "cell_type": "markdown",
   "id": "56180a22-c361-4b59-93cb-b942a9fedea1",
   "metadata": {},
   "source": [
    "8.\tWrite a Python program that uses the `map()` function to round each element of a list of floating-point numbers to the nearest integer."
   ]
  },
  {
   "cell_type": "code",
   "execution_count": 19,
   "id": "177f0f32-ec49-4d2f-b8c6-3bb472d2bce6",
   "metadata": {},
   "outputs": [
    {
     "name": "stdin",
     "output_type": "stream",
     "text": [
      "Enter the list of numbers (space-separated):  1.5 4.1256 3.982 5.564 7.22\n"
     ]
    },
    {
     "name": "stdout",
     "output_type": "stream",
     "text": [
      "nearest integer to 1.5 = 2.0\n",
      "nearest integer to 4.1256 = 4.0\n",
      "nearest integer to 3.982 = 4.0\n",
      "nearest integer to 5.564 = 6.0\n",
      "nearest integer to 7.22 = 7.0\n"
     ]
    }
   ],
   "source": [
    "def rounding_off_to_int(num):\n",
    "    num = np.round(num)\n",
    "    return num\n",
    "\n",
    "num_input = input(\"Enter the list of numbers (space-separated): \")\n",
    "\n",
    "float_list = [float(num) for num in num_input.split()]\n",
    "\n",
    "round_num = map(rounding_off_to_int, float_list)\n",
    "round_num_list = list(round_num)\n",
    "for i in range(len(float_list)):\n",
    "    print(f\"nearest integer to {float_list[i]} = {round_num_list[i]}\")"
   ]
  },
  {
   "cell_type": "code",
   "execution_count": 18,
   "id": "6681a04d-7575-487f-8550-f4c1c6b5c1fe",
   "metadata": {},
   "outputs": [
    {
     "data": {
      "text/plain": [
       "4.0"
      ]
     },
     "execution_count": 18,
     "metadata": {},
     "output_type": "execute_result"
    }
   ],
   "source": [
    "np.round(4.2)"
   ]
  },
  {
   "cell_type": "markdown",
   "id": "3418f062-bef0-4eb8-8a9a-eff9fb37d2d7",
   "metadata": {},
   "source": [
    "# Reduce"
   ]
  },
  {
   "cell_type": "markdown",
   "id": "cfdae854-d086-4ee3-8e17-96d3eab6423e",
   "metadata": {},
   "source": [
    "1.\tWhat is the `reduce()` function in Python, and what module should you import to use it? Provide an example of its basic usage."
   ]
  },
  {
   "cell_type": "markdown",
   "id": "212494f1-198e-461f-b9ad-787564ecc7e0",
   "metadata": {},
   "source": [
    "* The reduce() function is part of the functools module in Python. It is used for aggregating items of an iterable, applying a specified function cumulatively to the items, and reducing the iterable to a single cumulative result. The function provided to reduce() should take two arguments and return a single value."
   ]
  },
  {
   "cell_type": "markdown",
   "id": "55f689db-5d1f-48a2-b4fd-8c8d32397cb5",
   "metadata": {},
   "source": [
    "* brief overview of the reduce() function:    \n",
    "  functools.reduce(function, iterable[, initializer])    \n",
    "\n",
    "1. function: The function to be applied cumulatively to the items of the iterable.    \n",
    "2. iterable: The iterable (e.g., list, tuple) whose items will be aggregated.    \n",
    "3. initializer: An optional initial value. If provided, the function is applied to the initial value and the first item of the iterable."
   ]
  },
  {
   "cell_type": "markdown",
   "id": "6e157d22-2255-4132-8f44-ec8e774cbfe0",
   "metadata": {},
   "source": [
    "* To use reduce(), we need to import it from the functools module."
   ]
  },
  {
   "cell_type": "code",
   "execution_count": 20,
   "id": "e6adeec9-1c5a-4c4e-98cc-36553b874325",
   "metadata": {},
   "outputs": [
    {
     "name": "stdout",
     "output_type": "stream",
     "text": [
      "Product of the numbers: 120\n"
     ]
    }
   ],
   "source": [
    "# Custom function to calculate the product of two numbers\n",
    "def multiply(x, y):\n",
    "    return x * y\n",
    "\n",
    "# Example list of numbers\n",
    "numbers = [1, 2, 3, 4, 5]\n",
    "\n",
    "# Use reduce() to find the product of all elements in the list\n",
    "product = reduce(multiply, numbers)\n",
    "\n",
    "# Print the result\n",
    "print(\"Product of the numbers:\", product)"
   ]
  },
  {
   "cell_type": "markdown",
   "id": "b5e9d139-1b07-4c5c-b4b5-be86eec193f3",
   "metadata": {},
   "source": [
    "2.\tWrite a Python program that uses the `reduce()` function to find the product of all elements in a list."
   ]
  },
  {
   "cell_type": "code",
   "execution_count": 22,
   "id": "6727b173-73d1-4b65-b624-3ed217ae3edf",
   "metadata": {},
   "outputs": [
    {
     "name": "stdin",
     "output_type": "stream",
     "text": [
      "Enter the list of numbers (space-separated):  1 2 3 4 5 6 7 8 9 10\n"
     ]
    },
    {
     "name": "stdout",
     "output_type": "stream",
     "text": [
      "Product of numbers in the given list:  3628800.0\n"
     ]
    }
   ],
   "source": [
    "def multiply(x, y):\n",
    "    return x * y\n",
    "\n",
    "inp_nums = input(\"Enter the list of numbers (space-separated): \")\n",
    "\n",
    "num_list = [float(num) for num in inp_nums.split()]\n",
    "\n",
    "product = reduce(multiply, num_list)\n",
    "\n",
    "print(\"Product of numbers in the given list: \", product)"
   ]
  },
  {
   "cell_type": "markdown",
   "id": "90b538fd-e909-4b5d-bf33-5bdb95383949",
   "metadata": {},
   "source": [
    "3.\tCreate a Python program that uses `reduce()` to find the maximum element in a list of numbers."
   ]
  },
  {
   "cell_type": "code",
   "execution_count": 26,
   "id": "e1df28a0-2635-45ee-8310-a0d2fb247cca",
   "metadata": {},
   "outputs": [
    {
     "name": "stdin",
     "output_type": "stream",
     "text": [
      "Enter the list of numbers (space-separated):  1 2 3\n"
     ]
    },
    {
     "name": "stdout",
     "output_type": "stream",
     "text": [
      "Maximum of numbers in the given list: 3.0\n"
     ]
    }
   ],
   "source": [
    "def max_elt(x, y):\n",
    "    return max(x, y)\n",
    "\n",
    "inp_nums = input(\"Enter the list of numbers (space-separated): \")\n",
    "\n",
    "num_list = [float(num) for num in inp_nums.split()]\n",
    "\n",
    "maximum = reduce(max_elt, num_list)\n",
    "\n",
    "print(\"Maximum of numbers in the given list:\", maximum)"
   ]
  },
  {
   "cell_type": "markdown",
   "id": "56eb5e0f-8be1-4f9d-968e-8cc8a001ece1",
   "metadata": {},
   "source": [
    "4.\tHow can you use the `reduce()` function to concatenate a list of strings into a single string?"
   ]
  },
  {
   "cell_type": "code",
   "execution_count": 30,
   "id": "711dd671-5d8a-439e-a5d9-75e498d00265",
   "metadata": {},
   "outputs": [
    {
     "name": "stdin",
     "output_type": "stream",
     "text": [
      "Enter the list of strings (space-separated):  a b c d e\n"
     ]
    },
    {
     "name": "stdout",
     "output_type": "stream",
     "text": [
      "Concatenated string: abcde\n"
     ]
    }
   ],
   "source": [
    "input_strings = input(\"Enter the list of strings (space-separated): \")\n",
    "\n",
    "list_strings = input_strings.split()\n",
    "\n",
    "concatenated_string = reduce(lambda x, y: x + y, list_strings)\n",
    "\n",
    "print(\"Concatenated string:\", concatenated_string)"
   ]
  },
  {
   "cell_type": "markdown",
   "id": "c85b5de5-bcb4-4ad6-8759-176d96a58783",
   "metadata": {},
   "source": [
    "5.\tWrite a Python program that calculates the factorial of a number using the `reduce()` function."
   ]
  },
  {
   "cell_type": "code",
   "execution_count": 32,
   "id": "ef11efb1-6024-4841-b52b-292564e72833",
   "metadata": {},
   "outputs": [
    {
     "name": "stdin",
     "output_type": "stream",
     "text": [
      "Enter the integer:  5\n"
     ]
    },
    {
     "name": "stdout",
     "output_type": "stream",
     "text": [
      "5! = 120\n"
     ]
    }
   ],
   "source": [
    "input_num = int(input(\"Enter the integer: \"))\n",
    "\n",
    "list_nums = [i for i in range(1, input_num + 1)]\n",
    "\n",
    "factorial = reduce(lambda x, y: x * y, list_nums)\n",
    "\n",
    "print(f\"{input_num}! = {factorial}\")"
   ]
  },
  {
   "cell_type": "markdown",
   "id": "897b4f16-e9c6-415b-a230-36b289f57d19",
   "metadata": {},
   "source": [
    "6.\tCreate a Python program that uses `reduce()` to find the GCD (Greatest Common Divisor) of a list of numbers."
   ]
  },
  {
   "cell_type": "code",
   "execution_count": 7,
   "id": "f47cd2a2-49b4-41d1-b629-2f557b4df9ba",
   "metadata": {},
   "outputs": [
    {
     "name": "stdin",
     "output_type": "stream",
     "text": [
      "Enter the list of integers separated by spaces:  10 20 30\n"
     ]
    },
    {
     "name": "stdout",
     "output_type": "stream",
     "text": [
      "gcd([10, 20, 30]) = 10\n"
     ]
    }
   ],
   "source": [
    "def cal_gcd(x, y):\n",
    "   return max([i for i in range(1, max(x, y) + 1) if x % i == 0 and y % i == 0])\n",
    "\n",
    "input_list = input(\"Enter the list of integers separated by spaces: \")\n",
    "\n",
    "list_nums = [int(i) for i in input_list.split()]\n",
    "\n",
    "gcd = reduce(cal_gcd, list_nums)\n",
    "\n",
    "print(f\"gcd({list_nums}) = {gcd}\")"
   ]
  },
  {
   "cell_type": "markdown",
   "id": "bfa4a92f-ee46-4b78-84cc-394a354d1556",
   "metadata": {},
   "source": [
    "7.\tWrite a Python program that uses the `reduce()` function to find the sum of the digits of a given number."
   ]
  },
  {
   "cell_type": "code",
   "execution_count": 10,
   "id": "aed9bc42-5e92-4b5b-a1a7-6be6862b6f17",
   "metadata": {},
   "outputs": [
    {
     "name": "stdout",
     "output_type": "stream",
     "text": [
      "1\n",
      "2\n",
      "3\n",
      "4\n",
      "5\n"
     ]
    }
   ],
   "source": [
    "num = str(12345)\n",
    "for i in num:\n",
    "    print(int(i))"
   ]
  },
  {
   "cell_type": "code",
   "execution_count": 12,
   "id": "f678383e-a9ac-438e-9c18-784219ca69b4",
   "metadata": {},
   "outputs": [
    {
     "name": "stdin",
     "output_type": "stream",
     "text": [
      "Enter the number 123456\n"
     ]
    },
    {
     "name": "stdout",
     "output_type": "stream",
     "text": [
      "The sum of digits of given number is 21\n"
     ]
    }
   ],
   "source": [
    "def digit_sum(i, j):\n",
    "    sum = i + j\n",
    "    return sum\n",
    "\n",
    "input_num = input(\"Enter the number\")\n",
    "\n",
    "input_list = [int(i) for i in input_num]\n",
    "\n",
    "sum_of_digits = reduce(digit_sum, input_list)\n",
    "\n",
    "print(f\"The sum of digits of given number is {sum_of_digits}\")"
   ]
  },
  {
   "cell_type": "markdown",
   "id": "e0951cf1-08ef-4293-8d52-99193514b9e2",
   "metadata": {},
   "source": [
    "# Filter"
   ]
  },
  {
   "cell_type": "markdown",
   "id": "add00744-405d-4940-8f79-f744b19b5f97",
   "metadata": {},
   "source": [
    "1.\tExplain the purpose of the `filter()` function in Python and provide an example of how it can be used to filter elements from an iterable."
   ]
  },
  {
   "cell_type": "markdown",
   "id": "c53ab597-8fc4-41ec-9e74-5ea515563dd4",
   "metadata": {},
   "source": [
    "* The filter() function in Python is used to filter elements from an iterable based on a specified function, which acts as the filter condition. It returns an iterator containing the elements for which the function returns True."
   ]
  },
  {
   "cell_type": "markdown",
   "id": "a773f5f5-3a24-4041-933d-c2053f9d645c",
   "metadata": {},
   "source": [
    "* The syntax of the filter() function is as follows:    \n",
    "* filter(function, iterable)       \n",
    "\n",
    "  function: This is the function that tests each element of the iterable. It should return either True or False.\n",
    "  \n",
    "iterable: This is the iterable (e.g., a list, tuple, etc.) whose elements are tested by the provided function."
   ]
  },
  {
   "cell_type": "code",
   "execution_count": 13,
   "id": "007f6335-14bf-4f83-a190-f6dc0f93ff71",
   "metadata": {},
   "outputs": [
    {
     "name": "stdout",
     "output_type": "stream",
     "text": [
      "[2, 4, 6, 8, 10]\n"
     ]
    }
   ],
   "source": [
    "# Example:\n",
    "# Define a function to filter even numbers\n",
    "def is_even(num):\n",
    "    return num % 2 == 0\n",
    "\n",
    "numbers = [1, 2, 3, 4, 5, 6, 7, 8, 9, 10]\n",
    "\n",
    "filtered_numbers = filter(is_even, numbers)\n",
    "\n",
    "result_list = list(filtered_numbers)\n",
    "\n",
    "print(result_list)"
   ]
  },
  {
   "cell_type": "markdown",
   "id": "03aaaaef-0269-4241-86c3-e0d44f43739e",
   "metadata": {},
   "source": [
    "2.\tWrite a Python program that uses the `filter()` function to select even numbers from a list of integers."
   ]
  },
  {
   "cell_type": "markdown",
   "id": "405124f6-4744-4676-bf3b-6c4a7955fe7e",
   "metadata": {},
   "source": [
    "* Example given above"
   ]
  },
  {
   "cell_type": "markdown",
   "id": "132a0675-42c4-4ea0-8c9e-a2030b38175d",
   "metadata": {},
   "source": [
    "3.\tCreate a Python program that uses the `filter()` function to select names that start with a specific letter from a list of strings."
   ]
  },
  {
   "cell_type": "code",
   "execution_count": 24,
   "id": "de41382e-4b13-4508-85ee-35c2bc9ad290",
   "metadata": {},
   "outputs": [
    {
     "name": "stdin",
     "output_type": "stream",
     "text": [
      "Enter the names separated by spaces:  Ajay Ashish Ashutosh Anna Kartik Kartiki Ketan Disha Kiran Chetan Chaitali\n",
      "Enter the letter on the basis of which the list is to be filtered:  K\n"
     ]
    },
    {
     "name": "stdout",
     "output_type": "stream",
     "text": [
      "Names filtered based on letter K are ['Kartik', 'Kartiki', 'Ketan', 'Kiran']\n"
     ]
    }
   ],
   "source": [
    "def name_filter(letter, name):\n",
    "    return name.lower()[0] == letter.lower()\n",
    "\n",
    "input_names = input(\"Enter the names separated by spaces: \")\n",
    "letter = input(\"Enter the letter on the basis of which the list is to be filtered: \")\n",
    "name_list = input_names.split()\n",
    "filtered_names = list(filter(lambda name: name_filter(letter, name), name_list))\n",
    "print(f\"Names filtered based on letter {letter} are {filtered_names}\")"
   ]
  },
  {
   "cell_type": "markdown",
   "id": "37feca46-9365-4b3f-b4e2-4b82c4c52b8f",
   "metadata": {},
   "source": [
    "4.\tWrite a Python program that uses the `filter()` function to select prime numbers from a list of integers."
   ]
  },
  {
   "cell_type": "code",
   "execution_count": 26,
   "id": "d20d6972-e348-4109-a4af-fa09c15671c2",
   "metadata": {},
   "outputs": [
    {
     "name": "stdout",
     "output_type": "stream",
     "text": [
      "The prime numbers in the given list are: [2, 3, 5, 7]\n"
     ]
    }
   ],
   "source": [
    "# Define a function to find prime numbers in the list\n",
    "def is_prime_number(n):\n",
    "    if n == 1:\n",
    "        return False\n",
    "    elif n == 2:\n",
    "        return True\n",
    "    else:\n",
    "        for i in range(2, int(np.sqrt(n)) + 1):\n",
    "            if n % i == 0:\n",
    "                return False\n",
    "        return True\n",
    "\n",
    "numbers = [1, 2, 3, 4, 5, 6, 7, 8, 9, 10]\n",
    "\n",
    "filtered_numbers = filter(is_prime_number, numbers)\n",
    "\n",
    "result_list = list(filtered_numbers)\n",
    "\n",
    "print(f\"The prime numbers in the given list are: {result_list}\")"
   ]
  },
  {
   "cell_type": "markdown",
   "id": "a9f7e3ff-d13b-4715-886d-30518c8b77bb",
   "metadata": {},
   "source": [
    "5.\tHow can you use the `filter()` function to remove None values from a list in Python?"
   ]
  },
  {
   "cell_type": "code",
   "execution_count": 27,
   "id": "cd3aba66-d5ef-4f4e-aceb-a1ddb221ec07",
   "metadata": {},
   "outputs": [
    {
     "name": "stdout",
     "output_type": "stream",
     "text": [
      "Original list: [1, None, 2, None, 3, 4, None, 5, 6, 7, 8, None]\n",
      "Filtered list: [1, 2, 3, 4, 5, 6, 7, 8]\n"
     ]
    }
   ],
   "source": [
    "# Sample list with None values\n",
    "list1 = [1, None, 2, None, 3, 4, None, 5, 6, 7, 8, None]\n",
    "\n",
    "filtered_list = list(filter(lambda x: x is not None, list1))\n",
    "\n",
    "print(\"Original list:\", list1)\n",
    "print(\"Filtered list:\", filtered_list)"
   ]
  },
  {
   "cell_type": "code",
   "execution_count": 28,
   "id": "54f0af6a-d5ba-4b3b-86dc-a5b423d3dad8",
   "metadata": {},
   "outputs": [
    {
     "name": "stdout",
     "output_type": "stream",
     "text": [
      "Original list: [1, None, 2, None, 3, 4, None, 5, 6, 7, 8, None]\n",
      "Filtered list: [1, 2, 3, 4, 5, 6, 7, 8]\n"
     ]
    }
   ],
   "source": [
    "# Alternatively, we can use the shorthand expression without using lambda\n",
    "\n",
    "list1 = [1, None, 2, None, 3, 4, None, 5, 6, 7, 8, None]\n",
    "\n",
    "filtered_list = list(filter(None, list1))\n",
    "\n",
    "print(\"Original list:\", list1)\n",
    "print(\"Filtered list:\", filtered_list)"
   ]
  },
  {
   "cell_type": "markdown",
   "id": "dd68e177-242e-4601-a742-2acf78993c47",
   "metadata": {},
   "source": [
    "6.\tCreate a Python program that uses `filter()` to select words longer than a certain length from a list of strings."
   ]
  },
  {
   "cell_type": "code",
   "execution_count": 31,
   "id": "9f2c7b56-b1f3-46d5-a408-78683e6dd941",
   "metadata": {},
   "outputs": [
    {
     "name": "stdin",
     "output_type": "stream",
     "text": [
      "Enter the names separated by spaces:  Ajay Ashish Ashutosh Anna Kartik Kartiki Ketan Disha Kiran Chetan Chaitali Chandrashekhar\n",
      "Enter the desired length:  8\n"
     ]
    },
    {
     "name": "stdout",
     "output_type": "stream",
     "text": [
      "The names having length greater than 8 is/are: ['Chandrashekhar']\n"
     ]
    }
   ],
   "source": [
    "def name_filter(name, length):\n",
    "    return len(name) > length\n",
    "\n",
    "input_names = input(\"Enter the names separated by spaces: \")\n",
    "length = int(input(\"Enter the desired length: \"))\n",
    "name_list = input_names.split()\n",
    "filtered_names = list(filter(lambda name: name_filter(name, length), name_list))\n",
    "print(f\"The names having length greater than {length} is/are: {filtered_names}\")"
   ]
  },
  {
   "cell_type": "markdown",
   "id": "12992b9c-4f2c-4390-b79d-1a8e133f455e",
   "metadata": {},
   "source": [
    "7.\tWrite a Python program that uses the `filter()` function to select elements greater than a specified threshold from a list of values."
   ]
  },
  {
   "cell_type": "code",
   "execution_count": 32,
   "id": "8a442b2a-6c09-49a6-9976-9ceafff1e7ee",
   "metadata": {},
   "outputs": [
    {
     "name": "stdin",
     "output_type": "stream",
     "text": [
      "Enter the threshold value:  10\n"
     ]
    },
    {
     "name": "stdout",
     "output_type": "stream",
     "text": [
      "Original list of values: [15, 8, 25, 30, 10, 5, 18]\n",
      "Filtered values greater than 10: [15, 25, 30, 18]\n"
     ]
    }
   ],
   "source": [
    "def filter_greater_than_threshold(value, threshold):\n",
    "    return value > threshold\n",
    "\n",
    "values = [15, 8, 25, 30, 10, 5, 18]\n",
    "\n",
    "threshold = int(input(\"Enter the threshold value: \"))\n",
    "\n",
    "filtered_values = list(filter(lambda x: filter_greater_than_threshold(x, threshold), values))\n",
    "\n",
    "print(f\"Original list of values: {values}\")\n",
    "print(f\"Filtered values greater than {threshold}: {filtered_values}\")"
   ]
  },
  {
   "cell_type": "markdown",
   "id": "b9e9257a-7514-4fd2-8b21-faff051a6bf3",
   "metadata": {},
   "source": [
    "# Recursion"
   ]
  },
  {
   "cell_type": "markdown",
   "id": "5ab4eba3-fe9f-4285-afd4-779e48269d07",
   "metadata": {},
   "source": [
    "1.\tExplain the concept of recursion in Python. How does it differ from iteration?"
   ]
  },
  {
   "cell_type": "markdown",
   "id": "f3756b52-422c-48a4-9504-c63db86e8484",
   "metadata": {},
   "source": [
    "### Recursion"
   ]
  },
  {
   "cell_type": "markdown",
   "id": "01a57720-4f3d-4a8b-83ba-69dcb2880b70",
   "metadata": {},
   "source": [
    "* Recursion is a programming concept where a function calls itself in its own definition. In the context of Python, a recursive function is a function that calls itself to solve a smaller instance of the same problem. A recursive function typically has a base case that specifies when the function should stop calling itself. If the base case is not met, the function continues to call itself with modified parameters."
   ]
  },
  {
   "cell_type": "code",
   "execution_count": 35,
   "id": "f89bc227-cbe1-4cac-a429-f7af175f797a",
   "metadata": {},
   "outputs": [
    {
     "name": "stdout",
     "output_type": "stream",
     "text": [
      "5! = 120\n"
     ]
    }
   ],
   "source": [
    "# Exapmle of recursion\n",
    "\n",
    "def factorial(n):\n",
    "    if n == 0 or n == 1:\n",
    "        return 1\n",
    "    else:\n",
    "        return n * factorial(n - 1)\n",
    "\n",
    "n = 5\n",
    "result = factorial(n)\n",
    "print(f\"{n}! = {result}\")"
   ]
  },
  {
   "cell_type": "markdown",
   "id": "ceb441c7-a01c-4568-802c-6980f134660f",
   "metadata": {},
   "source": [
    "### Iteration"
   ]
  },
  {
   "cell_type": "markdown",
   "id": "f12413f9-1e4d-4fd2-90e8-3904e69d6361",
   "metadata": {},
   "source": [
    "* Iteration, on the other hand, is a repetitive execution of a set of statements using looping constructs like for and while. In iteration, a loop is used to repeatedly execute a block of code until a certain condition is met."
   ]
  },
  {
   "cell_type": "code",
   "execution_count": 36,
   "id": "376eab61-457a-434b-ba75-56e73b15cf5e",
   "metadata": {},
   "outputs": [
    {
     "name": "stdout",
     "output_type": "stream",
     "text": [
      "5! = 120\n"
     ]
    }
   ],
   "source": [
    "# Exapmle of iteration\n",
    "\n",
    "def factorial_iterative(n):\n",
    "    result = 1\n",
    "    for i in range(1, n + 1):\n",
    "        result *= i\n",
    "    return result\n",
    "\n",
    "n = 5\n",
    "result = factorial_iterative(n)\n",
    "print(f\"{n}! = {result}\")"
   ]
  },
  {
   "cell_type": "markdown",
   "id": "2dc77201-37f8-45a2-837d-0a857b731925",
   "metadata": {},
   "source": [
    "1. Nature of Execution:\n",
    "\n",
    "* Recursion involves a function calling itself.\n",
    "* Iteration involves a loop executing a set of statements.\n",
    "\n",
    "2. Memory Usage:\n",
    "\n",
    "* Recursion may use more memory due to the function call stack.\n",
    "* Iteration generally uses less memory since it doesn't involve the call stack growing with each iteration.\n",
    "\n",
    "3. Readability and Simplicity:\n",
    "\n",
    "* Recursion can lead to more concise and elegant code in some cases.\n",
    "* Iteration is often more straightforward and easier to understand in certain situations.\n",
    "\n",
    "4. Performance:\n",
    "\n",
    "* Recursion may have a performance overhead due to function call overhead and maintaining the call stack.\n",
    "* Iteration can be more efficient in terms of performance."
   ]
  },
  {
   "cell_type": "markdown",
   "id": "429363c5-6d2e-4097-a4fc-25952cdd50a7",
   "metadata": {},
   "source": [
    "2.\tWrite a Python program to calculate the factorial of a number using recursion."
   ]
  },
  {
   "cell_type": "markdown",
   "id": "b432f944-f426-4dd2-821a-93bb4f342746",
   "metadata": {},
   "source": [
    "* Example given above"
   ]
  },
  {
   "cell_type": "markdown",
   "id": "379bef08-b354-4571-bfeb-48bafed3fd82",
   "metadata": {},
   "source": [
    "3.\tCreate a recursive Python function to find the nth Fibonacci number."
   ]
  },
  {
   "cell_type": "code",
   "execution_count": 3,
   "id": "e6228ab3-44e2-428d-82e3-d70c063497be",
   "metadata": {},
   "outputs": [
    {
     "name": "stdin",
     "output_type": "stream",
     "text": [
      "Enter the value of n to find the nth Fibonacci number:  6\n"
     ]
    },
    {
     "name": "stdout",
     "output_type": "stream",
     "text": [
      "The 6th Fibonacci number is: 5\n"
     ]
    }
   ],
   "source": [
    "def fibonacci(n):\n",
    "    if n <= 0:\n",
    "        return \"Invalid input. Please provide a positive integer.\"\n",
    "    elif n == 1:\n",
    "        return 0\n",
    "    elif n == 2:\n",
    "        return 1\n",
    "    else:\n",
    "        return fibonacci(n - 1) + fibonacci(n - 2)\n",
    "\n",
    "n = int(input(\"Enter the value of n to find the nth Fibonacci number: \"))\n",
    "\n",
    "result = fibonacci(n)\n",
    "\n",
    "print(f\"The {n}th Fibonacci number is: {result}\")"
   ]
  },
  {
   "cell_type": "markdown",
   "id": "d0aca8f6-8685-4aeb-b7ef-b600d897777d",
   "metadata": {},
   "source": [
    "4.\tWrite a recursive Python function to calculate the sum of all elements in a list."
   ]
  },
  {
   "cell_type": "code",
   "execution_count": 5,
   "id": "5451af22-bb38-4163-869e-ef994e9b2bba",
   "metadata": {},
   "outputs": [
    {
     "name": "stdin",
     "output_type": "stream",
     "text": [
      "Enter the numbers in the list separated by spaces 1 2 3 4 5 6 7 8 9 10\n"
     ]
    },
    {
     "name": "stdout",
     "output_type": "stream",
     "text": [
      "The sum of all numbers in the list is 55.0\n"
     ]
    }
   ],
   "source": [
    "def recursive_sum(list1):\n",
    "    if not list1:\n",
    "        return 0\n",
    "    else:\n",
    "        return list1[0] + recursive_sum(list1[1:])\n",
    "\n",
    "input_list = input(\"Enter the numbers in the list separated by spaces\")\n",
    "list1 = [float(i) for i in input_list.split()]\n",
    "sum = recursive_sum(list1)\n",
    "print(f\"The sum of all numbers in the list is {sum}\")"
   ]
  },
  {
   "cell_type": "markdown",
   "id": "953961af-67e9-4425-b228-3d7dddeb046b",
   "metadata": {},
   "source": [
    "5.\tHow can you prevent a recursive function from running indefinitely, causing a stack overflow error?"
   ]
  },
  {
   "cell_type": "markdown",
   "id": "edf05d23-7bb9-4b47-a0c2-f204e7697b8c",
   "metadata": {},
   "source": [
    "* A stack overflow is when you've used up more memory for the stack than your program was supposed to use. In embedded systems you might only have 256 bytes for the stack, and if each function takes up 32 bytes then you can only have function calls 8 deep - function 1 calls function 2 who calls function 3 who calls function 4 .... who calls function 8 who calls function 9, but function 9 overwrites memory outside the stack. This might overwrite memory, code, etc."
   ]
  },
  {
   "cell_type": "markdown",
   "id": "e7ae3a28-467b-4c5d-9a35-2d58b8b5f0af",
   "metadata": {},
   "source": [
    "* To prevent a recursive function from running indefinitely and causing a stack overflow error, you need to ensure that your recursive calls eventually reach a base case. The base case is a condition under which the function stops calling itself and returns a result without further recursion."
   ]
  },
  {
   "cell_type": "markdown",
   "id": "3980510b-64c3-4140-983f-d92c174f2d5a",
   "metadata": {},
   "source": [
    "Here are some strategies to prevent infinite recursion:\n",
    "\n",
    "1. Define a Base Case:\n",
    "We ensure that our recursive function has a base case that is reachable. The base case should be a condition where the function can return a result without making further recursive calls.\n",
    "\n",
    "2. Check Input Validity:\n",
    "We include input validation checks at the beginning of our function to handle invalid or unexpected input values. If the input is outside the expected range or type, return an appropriate result or raise an exception.\n",
    "\n",
    "3. Use Proper Stopping Conditions:\n",
    "We check that our stopping conditions in the base case are well-defined and will eventually be met. We avoid conditions that might never be satisfied, leading to an infinite loop.\n",
    "\n",
    "4. Test with Small Inputs:\n",
    "We test our recursive function with small inputs to ensure it behaves as expected. Debugging and understanding the behavior of our function on small-scale inputs can help identify issues before they lead to stack overflow errors.\n",
    "\n",
    "5. Implement Memoization:\n",
    "If our recursive function involves repeated calculations, we consider using memoization to store and reuse previously computed results. This can significantly reduce the number of recursive calls."
   ]
  },
  {
   "cell_type": "markdown",
   "id": "35aafea1-e434-411c-83f7-5dcc7e2abf18",
   "metadata": {},
   "source": [
    "* Here's an example using a recursive function to calculate the factorial of a number with a base case and input validation:"
   ]
  },
  {
   "cell_type": "code",
   "execution_count": 7,
   "id": "f9479f96-6921-44c8-9b87-3c0c65b2b6d9",
   "metadata": {},
   "outputs": [
    {
     "name": "stdout",
     "output_type": "stream",
     "text": [
      "The factorial of 5 is: 120\n"
     ]
    }
   ],
   "source": [
    "def factorial(n):\n",
    "    # Input validation\n",
    "    if not isinstance(n, int) or n < 0:\n",
    "        raise ValueError(\"Input must be a non-negative integer.\")\n",
    "    \n",
    "    # Base case\n",
    "    if n == 0 or n == 1:\n",
    "        return 1\n",
    "    \n",
    "    # Recursive case\n",
    "    return n * factorial(n - 1)\n",
    "\n",
    "try:\n",
    "    n = 5\n",
    "    result = factorial(n)\n",
    "    print(f\"The factorial of {n} is: {result}\")\n",
    "except ValueError as e:\n",
    "    print(f\"Error: {e}\")"
   ]
  },
  {
   "cell_type": "markdown",
   "id": "13ff916c-cf57-4416-aaef-d1c5a3a4eb93",
   "metadata": {},
   "source": [
    "6.\tCreate a recursive Python function to find the greatest common divisor (GCD) of two numbers using the Euclidean algorithm."
   ]
  },
  {
   "cell_type": "code",
   "execution_count": 9,
   "id": "8441fb1f-9fb2-4b6b-8931-13cf5103a03f",
   "metadata": {},
   "outputs": [
    {
     "name": "stdin",
     "output_type": "stream",
     "text": [
      "Enter the numbers separated by spaces 28 42\n"
     ]
    },
    {
     "name": "stdout",
     "output_type": "stream",
     "text": [
      "The gcd of 28 and 42 is 14\n"
     ]
    }
   ],
   "source": [
    "def gcd(x , y):\n",
    "    if y == 0:\n",
    "        return x\n",
    "    else:\n",
    "        return gcd(y, x % y)\n",
    "\n",
    "input_num = input(\"Enter the numbers separated by spaces\")\n",
    "x, y = map(int, input_num.split())\n",
    "gcd_result  = gcd(x , y)\n",
    "print(f\"The gcd of {x} and {y} is {gcd_result}\")"
   ]
  },
  {
   "cell_type": "markdown",
   "id": "bd67be42-9e36-4e5c-972c-63248847de19",
   "metadata": {},
   "source": [
    "7.\tWrite a recursive Python function to reverse a string."
   ]
  },
  {
   "cell_type": "code",
   "execution_count": 13,
   "id": "1fa3c214-7f0f-4ad6-986f-c7f503a0c230",
   "metadata": {},
   "outputs": [
    {
     "name": "stdin",
     "output_type": "stream",
     "text": [
      "Enter the string:  Shekhar\n"
     ]
    },
    {
     "name": "stdout",
     "output_type": "stream",
     "text": [
      "The reversed string is: rahkehS\n"
     ]
    }
   ],
   "source": [
    "def reverse_string(string):\n",
    "    if len(string) <= 1:\n",
    "        return string\n",
    "    else:\n",
    "        return string[-1] + reverse_string(string[:-1])\n",
    "\n",
    "string = input(\"Enter the string: \")\n",
    "result_string = reverse_string(string)\n",
    "print(f\"The reversed string is: {result_string}\")"
   ]
  },
  {
   "cell_type": "markdown",
   "id": "b090b525-412f-4c18-9735-002cd410e2d5",
   "metadata": {},
   "source": [
    "8.\tCreate a recursive Python function to calculate the power of a number (x^n)."
   ]
  },
  {
   "cell_type": "code",
   "execution_count": 14,
   "id": "4a1a205f-58ab-4b15-b820-c8b4796fb0b0",
   "metadata": {},
   "outputs": [
    {
     "name": "stdin",
     "output_type": "stream",
     "text": [
      "Enter the number and its power 10 5\n"
     ]
    },
    {
     "name": "stdout",
     "output_type": "stream",
     "text": [
      "10^5 = 100000\n"
     ]
    }
   ],
   "source": [
    "def power_of_num(x, n):\n",
    "    if n < 1:\n",
    "        return 1\n",
    "    else:\n",
    "        return x * power_of_num(x, n - 1)\n",
    "\n",
    "input_nums = input(\"Enter the number and its power\")\n",
    "\n",
    "x, n = map(int, input_nums.split())\n",
    "power_num = power_of_num(x, n)\n",
    "print(f\"{x}^{n} = {power_num}\")"
   ]
  },
  {
   "cell_type": "markdown",
   "id": "948196b9-bda5-4c2b-92a0-4ccfe87f66f7",
   "metadata": {},
   "source": [
    "9.\tWrite a recursive Python function to find all permutations of a given string."
   ]
  },
  {
   "cell_type": "code",
   "execution_count": 19,
   "id": "3a319287-3fb2-42ad-8545-588b9fb3055c",
   "metadata": {},
   "outputs": [
    {
     "name": "stdin",
     "output_type": "stream",
     "text": [
      "Enter the string for permutations:  ABCA\n"
     ]
    },
    {
     "name": "stdout",
     "output_type": "stream",
     "text": [
      "All permutations of ABCA:\n",
      "ACBA\n",
      "BACA\n",
      "CABA\n",
      "ACAB\n",
      "AACB\n",
      "AABC\n",
      "ABAC\n",
      "CBAA\n",
      "BAAC\n",
      "BCAA\n",
      "CAAB\n",
      "ABCA\n"
     ]
    }
   ],
   "source": [
    "def permutations_of_string(string):\n",
    "    if len(string) == 1:\n",
    "        return [string]\n",
    "\n",
    "    permutations = []\n",
    "    for i in range(len(string)):\n",
    "        initial_char = string[i]\n",
    "        remaining_chars = string[:i] + string[i+1:]\n",
    "\n",
    "        for x in permutations_of_string(remaining_chars):\n",
    "            permutations.append(initial_char + x)\n",
    "\n",
    "    return permutations\n",
    "\n",
    "input_string = input(\"Enter the string for permutations: \")\n",
    "result_permutations = permutations_of_string(input_string)\n",
    "\n",
    "print(f\"All permutations of {input_string}:\")\n",
    "for y in set(result_permutations):\n",
    "    print(y)"
   ]
  },
  {
   "cell_type": "markdown",
   "id": "92365dd9-8d7e-4581-99ce-cc812f9efc48",
   "metadata": {},
   "source": [
    "10.\tWrite a recursive Python function to check if a string is a palindrome."
   ]
  },
  {
   "cell_type": "code",
   "execution_count": 20,
   "id": "602d2aa2-9f89-4da5-9f79-78030e4ec9a7",
   "metadata": {},
   "outputs": [
    {
     "name": "stdin",
     "output_type": "stream",
     "text": [
      "Enter the string:  level\n"
     ]
    },
    {
     "name": "stdout",
     "output_type": "stream",
     "text": [
      "Given string is a palindrome\n"
     ]
    }
   ],
   "source": [
    "# Method I\n",
    "def reverse_string(string):\n",
    "    if len(string) <= 1:\n",
    "        return string\n",
    "    else:\n",
    "        return string[-1] + reverse_string(string[:-1])\n",
    "\n",
    "string = input(\"Enter the string: \")\n",
    "result_string = reverse_string(string)\n",
    "string = string.lower()\n",
    "if string == result_string:\n",
    "    print(\"Given string is a palindrome\")"
   ]
  },
  {
   "cell_type": "code",
   "execution_count": 22,
   "id": "ce80d3c4-cb96-4bd3-b13a-e7db1cda5038",
   "metadata": {},
   "outputs": [
    {
     "name": "stdin",
     "output_type": "stream",
     "text": [
      "Enter the string:  Malayalam\n"
     ]
    },
    {
     "name": "stdout",
     "output_type": "stream",
     "text": [
      "Given string is a palindrome\n"
     ]
    }
   ],
   "source": [
    "# Method II\n",
    "def is_palindrome(string):\n",
    "    string = string.lower()\n",
    "    if len(string) <= 1:\n",
    "        return True\n",
    "    else:\n",
    "        return string[0] == string[-1] and is_palindrome(string[1:-1])\n",
    "\n",
    "input_string = input(\"Enter the string: \")\n",
    "\n",
    "if is_palindrome(input_string):\n",
    "    print(\"Given string is a palindrome\")\n",
    "else:\n",
    "    print(\"Given string is not a palindrome\")"
   ]
  },
  {
   "cell_type": "markdown",
   "id": "fdef60dd-d5c8-4b61-9f3e-9344ddde43bc",
   "metadata": {},
   "source": [
    "11.\tCreate a recursive Python function to generate all possible combinations of a list of elements."
   ]
  },
  {
   "cell_type": "code",
   "execution_count": 36,
   "id": "2e76add3-0044-4f95-8067-416fef540266",
   "metadata": {},
   "outputs": [
    {
     "name": "stdin",
     "output_type": "stream",
     "text": [
      "Enter the elements separated by spaces:  jupyter vscode spyder\n"
     ]
    },
    {
     "name": "stdout",
     "output_type": "stream",
     "text": [
      "All possible combinations:\n",
      "['jupyter', 'vscode', 'spyder']\n",
      "['jupyter', 'spyder', 'vscode']\n",
      "['vscode', 'jupyter', 'spyder']\n",
      "['vscode', 'spyder', 'jupyter']\n",
      "['spyder', 'jupyter', 'vscode']\n",
      "['spyder', 'vscode', 'jupyter']\n",
      "To access each element in the combination \n",
      " ['jupyter', 'vscode', 'spyder']\n"
     ]
    }
   ],
   "source": [
    "def list_combination(elements):\n",
    "    if len(elements) == 1:\n",
    "        return elements\n",
    "\n",
    "    all_combinations = []\n",
    "    for i in range(len(elements)):\n",
    "        current_element = elements[i]\n",
    "        remaining_elements = elements[:i] + elements[i+1:]\n",
    "\n",
    "        for combination in list_combination(remaining_elements):\n",
    "            all_combinations.append(current_element + \" \" + combination)\n",
    "\n",
    "    return all_combinations\n",
    "\n",
    "# Example usage:\n",
    "input_list = input(\"Enter the elements separated by spaces: \").split()\n",
    "result_combinations = list_combination(input_list)\n",
    "\n",
    "print(\"All possible combinations:\")\n",
    "for comb in result_combinations:\n",
    "    print(comb.split())\n",
    "\n",
    "print(f\"To access each element in the combination \\n {result_combinations[0].split()}\")"
   ]
  },
  {
   "cell_type": "markdown",
   "id": "5c176b3b-97e3-4b75-aa2d-e6a849458496",
   "metadata": {},
   "source": [
    "# Basics of Functions"
   ]
  },
  {
   "cell_type": "markdown",
   "id": "a186e7e6-0b28-4ec4-ad43-3ec1c31252ef",
   "metadata": {},
   "source": [
    "1.\tWhat is a function in Python, and why is it used?"
   ]
  },
  {
   "cell_type": "markdown",
   "id": "0a44eee0-c4a8-47aa-8ef4-e2a84462004d",
   "metadata": {},
   "source": [
    "* In Python, a function is a reusable block of code that performs a specific task or set of tasks. Functions allow you to break down a program into smaller, modular pieces, making your code more organized, readable, and maintainable. Functions can take input parameters, perform operations, and return results."
   ]
  },
  {
   "cell_type": "markdown",
   "id": "ad7ccabf-0692-47fa-ada9-9b59b7adbc29",
   "metadata": {},
   "source": [
    "* Uses of Functions\n",
    "1. Code Reusability:    \r\n",
    "Functions promote code reusability, allowingusu to write a piece of code once and reuse it multiple times. This makesyour code more modular and easier to maintain\n",
    "\n",
    "2. Abstraction:    \n",
    "Functions provide a level of abstraction, allowing us to use and understand a piece of functionality without needing to know the implementation details. This enhances code readability and reduces complexity.\n",
    "\n",
    "3. Scope:    \r\n",
    "Functions have their own local scope, meaning variables defined within a function are only accessible within that function. This helps prevent naming conflicts and promotes encapsulation.."
   ]
  },
  {
   "cell_type": "markdown",
   "id": "fa11fa98-ae44-4178-9f2c-0b0a1e94f23b",
   "metadata": {},
   "source": [
    "2.\tHow do you define a function in Python? Provide an example."
   ]
  },
  {
   "cell_type": "code",
   "execution_count": 38,
   "id": "28e5ca23-8988-4891-838d-fdae9f719c19",
   "metadata": {},
   "outputs": [
    {
     "name": "stdout",
     "output_type": "stream",
     "text": [
      "Square of given number is 25\n"
     ]
    }
   ],
   "source": [
    "# The following function squares the given number\n",
    "# We have to return the desired value at the end of process happening in the function\n",
    "\n",
    "def square(x):\n",
    "    return x ** 2\n",
    "\n",
    "result = square(5)\n",
    "print(\"Square of given number is\", result)"
   ]
  },
  {
   "cell_type": "markdown",
   "id": "4eae59d3-b49b-420a-88bf-90f680b5bbfc",
   "metadata": {},
   "source": [
    "* In most of the codes above we have used function to efficiently get the required results."
   ]
  },
  {
   "cell_type": "markdown",
   "id": "d93e41df-efb8-4f2b-be5f-3f780ef5dc2f",
   "metadata": {},
   "source": [
    "3.\tExplain the difference between a function definition and a function call."
   ]
  },
  {
   "cell_type": "markdown",
   "id": "ef2239be-95fb-451a-b25d-309d67643d66",
   "metadata": {},
   "source": [
    "* Defining a Function:    \n",
    "You can define a function using the def keyword, followed by the function name, a set of parentheses for parameters, and a colon. The body of the function is indented."
   ]
  },
  {
   "cell_type": "code",
   "execution_count": 39,
   "id": "9c990231-209c-4538-81f4-583bdf2bd193",
   "metadata": {},
   "outputs": [],
   "source": [
    "def greet(name):\n",
    "    print(f\"Hello, {name}!\")"
   ]
  },
  {
   "cell_type": "markdown",
   "id": "d554738b-44bc-49e3-88f3-538924e94034",
   "metadata": {},
   "source": [
    "* Calling a Function:    \n",
    "Once a function is defined, you can call it by using its name followed by parentheses. If the function has parameters, you provide the values inside the parentheses."
   ]
  },
  {
   "cell_type": "code",
   "execution_count": 40,
   "id": "d14cae91-0020-40c5-99e1-711bafc1464f",
   "metadata": {},
   "outputs": [
    {
     "name": "stdout",
     "output_type": "stream",
     "text": [
      "Hello, Chandrashekhar!\n"
     ]
    }
   ],
   "source": [
    "greet(\"Chandrashekhar\")"
   ]
  },
  {
   "cell_type": "markdown",
   "id": "752ce7f3-9656-4b7a-bdf6-a1ce508cda92",
   "metadata": {},
   "source": [
    "4.\tWrite a Python program that defines a function to calculate the sum of two numbers and then calls the function."
   ]
  },
  {
   "cell_type": "code",
   "execution_count": 42,
   "id": "f81f101a-2895-4b73-9325-e168bd7ba6a5",
   "metadata": {},
   "outputs": [
    {
     "name": "stdout",
     "output_type": "stream",
     "text": [
      "The sum of 10 and 15 is 25\n"
     ]
    }
   ],
   "source": [
    "# Define a function to calculate \n",
    "def add(a, b):\n",
    "    return a + b\n",
    "\n",
    "a = 10\n",
    "b = 15\n",
    "sum = add(a, b)\n",
    "print(f\"The sum of {a} and {b} is {sum}\")"
   ]
  },
  {
   "cell_type": "markdown",
   "id": "845abb87-5c43-4d43-a31c-87deb897e190",
   "metadata": {},
   "source": [
    "5.\tWhat is a function signature, and what information does it typically include?"
   ]
  },
  {
   "cell_type": "markdown",
   "id": "e9deac24-fa58-490d-a9bb-b0464eec16bf",
   "metadata": {},
   "source": [
    "* A function signature in Python refers to the declaration of a function, providing essential information about the function's structure and behavior. It includes the function's name, parameters, and return type. The function signature helps define the interface of the function, allowing users to understand how to use it correctly.\n",
    "\n",
    "1. Function Name:\n",
    "The name of the function, which is used to identify and call the function.\n",
    "\n",
    "2. Parameters:\n",
    "The list of input parameters (arguments) that the function accepts. Each parameter is specified with its name and, optionally, its data type.\n",
    "\n",
    "3. Return Type:\n",
    "The data type of the value that the function returns. If a function doesn't return any value, the return type is usually specified as None or omitted.\n",
    "\n",
    "4. Annotations (Optional):\n",
    "Function annotations provide additional information about the types of parameters and the return value. While they are not enforced by the interpreter, they serve as documentation."
   ]
  },
  {
   "cell_type": "code",
   "execution_count": null,
   "id": "b9ff40f6-e8f9-4b70-8983-d9c54e843ece",
   "metadata": {},
   "outputs": [],
   "source": [
    "# Example of function signature\n",
    "\n",
    "def calculate_area(radius: float) -> float:\n",
    "    \"\"\"\n",
    "    Calculate the area of a circle given its radius.\n",
    "\n",
    "    Parameters:\n",
    "    - radius (float): The radius of the circle.\n",
    "\n",
    "    Returns:\n",
    "    - float: The area of the circle.\n",
    "    \"\"\"\n",
    "    return 3.14 * radius ** 2"
   ]
  },
  {
   "cell_type": "markdown",
   "id": "64b09456-43c5-434b-b5cd-8e2052e22def",
   "metadata": {},
   "source": [
    "* In the above example:         \n",
    "a. Function Name: calculate_area    \n",
    "b. Parameters: One parameter named radius with a data type annotation of float.    \n",
    "c. Return Type: The return type is specified as float.    \n",
    "d. Annotations: Annotations are used to provide information about the types of the parameter and return value.    "
   ]
  },
  {
   "cell_type": "markdown",
   "id": "b529424a-e1c4-418c-8e37-b36b01fe231d",
   "metadata": {},
   "source": [
    "6.\tCreate a Python function that takes two arguments and returns their product."
   ]
  },
  {
   "cell_type": "code",
   "execution_count": 45,
   "id": "1e671e95-7027-4901-9e14-a9e6d7a14568",
   "metadata": {},
   "outputs": [
    {
     "name": "stdout",
     "output_type": "stream",
     "text": [
      "3.5*2.7 = 9.45\n"
     ]
    }
   ],
   "source": [
    "def product_of_nums(x, y):\n",
    "    return x*y\n",
    "\n",
    "x = 3.5\n",
    "y = 2.7\n",
    "print(f\"{x}*{y} = {np.round(product_of_nums(x, y), 2)}\")"
   ]
  },
  {
   "cell_type": "markdown",
   "id": "e8ece0d6-92dd-468c-bc1f-5c7ae16ed8a3",
   "metadata": {},
   "source": [
    "# Function Parameters and Arguments"
   ]
  },
  {
   "cell_type": "markdown",
   "id": "1d46b18e-6ac1-429a-99c9-de5d4df1fe0d",
   "metadata": {},
   "source": [
    "1.\tExplain the concepts of formal parameters and actual arguments in Python functions."
   ]
  },
  {
   "cell_type": "markdown",
   "id": "ff7fe910-f0c7-4afc-9dd1-9ed6aa658705",
   "metadata": {},
   "source": [
    "1. Formal Parameters:    \n",
    "* Formal parameters are the placeholders or variables that we define in the function signature.\n",
    "* They act as variables within the function and are used to receive values when the function is called.\n",
    "* These parameters are specified inside the parentheses of the function definition.\n",
    "* Formal parameters serve as input variables for the function."
   ]
  },
  {
   "cell_type": "code",
   "execution_count": 10,
   "id": "064ee76d-00a5-48fe-a021-83a0cf1dae96",
   "metadata": {},
   "outputs": [],
   "source": [
    "# Example of formal parameters\n",
    "\n",
    "def add_numbers(x, y):  # Here, 'x' and 'y' are formal parameters.\n",
    "    result = x + y\n",
    "    return result"
   ]
  },
  {
   "cell_type": "markdown",
   "id": "6cb61201-38ee-46f0-861a-588563132d5d",
   "metadata": {},
   "source": [
    "2. Actual Arguments (Arguments):    \n",
    "* Actual arguments, often simply called arguments, are the values that are passed to the function when it is called.\n",
    "* They provide the actual data or values that the formal parameters will take inside the function.\n",
    "* Arguments are specified inside the parentheses when calling a function."
   ]
  },
  {
   "cell_type": "code",
   "execution_count": 11,
   "id": "5fce3d91-add8-4f9d-93c1-947aec147d18",
   "metadata": {},
   "outputs": [],
   "source": [
    "result = add_numbers(3, 5)  # Here, '3' and '5' are actual arguments."
   ]
  },
  {
   "cell_type": "markdown",
   "id": "3d556898-fb69-41ff-80db-d78e968f12ec",
   "metadata": {},
   "source": [
    "* There are different types of actual arguments     \n",
    "1. Positional arguments:    \n",
    "   The most common type where values are passed in the order of parameters."
   ]
  },
  {
   "cell_type": "code",
   "execution_count": 12,
   "id": "eb268572-9121-4c50-904c-4ca8b48b5917",
   "metadata": {},
   "outputs": [],
   "source": [
    "result = add_numbers(3, 5)  # '3' is assigned to 'x', and '5' is assigned to 'y'."
   ]
  },
  {
   "cell_type": "markdown",
   "id": "f1528770-e42e-4386-8949-b25a42d95744",
   "metadata": {},
   "source": [
    "2. Keyword arguments:    \n",
    "Values are passed with the parameter names, so the order doesn't matter."
   ]
  },
  {
   "cell_type": "code",
   "execution_count": 13,
   "id": "d9b546a4-4a54-4b8f-a52d-697441d8ab59",
   "metadata": {},
   "outputs": [],
   "source": [
    "result = add_numbers(y=5, x=3)  # 'x' is assigned '3', and 'y' is assigned '5'."
   ]
  },
  {
   "cell_type": "markdown",
   "id": "faab225f-558f-4a5c-ba99-8bc0192983f7",
   "metadata": {},
   "source": [
    "3. Default arguments:    \n",
    "   Parameters can have default values, and if an argument is not provided, the default value is used.d."
   ]
  },
  {
   "cell_type": "code",
   "execution_count": 9,
   "id": "02d6b785-29c5-49d5-bf64-61085e056b49",
   "metadata": {},
   "outputs": [],
   "source": [
    "def multiply_numbers(x, y=2):\n",
    "    result = x * y\n",
    "    return result\n",
    "\n",
    "result = multiply_numbers(4)  # 'x' is assigned '4', and 'y' uses its default value '2'."
   ]
  },
  {
   "cell_type": "markdown",
   "id": "1df0bea0-4305-4607-9d9c-533a195c26f0",
   "metadata": {},
   "source": [
    "2.\tWrite a Python program that defines a function with default argument values."
   ]
  },
  {
   "cell_type": "code",
   "execution_count": 3,
   "id": "31ee6516-613d-4d02-aa9e-b55d1e2dd20b",
   "metadata": {},
   "outputs": [
    {
     "name": "stdout",
     "output_type": "stream",
     "text": [
      "The list after diving each element by 2 is: \n",
      " [0.5, 1.0, 1.5, 2.0, 2.5, 3.0, 3.5, 4.0, 4.5, 5.0]\n"
     ]
    }
   ],
   "source": [
    "def divide_by_two(list1, x = 2):       # here 'x' will use its default value '2' whenever this function is called \n",
    "    div_list = [i/x for i in list1]\n",
    "    return div_list\n",
    "\n",
    "my_list = [1, 2, 3, 4, 5, 6, 7, 8, 9, 10]\n",
    "result_list = divide_by_two(my_list)      \n",
    "print(\"The list after diving each element by 2 is: \\n\", result_list)"
   ]
  },
  {
   "cell_type": "markdown",
   "id": "27f1e82b-7b34-4c70-b19f-ae435576ebc6",
   "metadata": {},
   "source": [
    "3.\tHow do you use keyword arguments in Python function calls? Provide an example."
   ]
  },
  {
   "cell_type": "markdown",
   "id": "2b69e3b7-15d8-4ec7-be0c-e7d988ce0bb5",
   "metadata": {},
   "source": [
    "* In Python, keyword arguments allow us to pass values to a function by explicitly specifying the parameter names along with their corresponding values. This provides clarity and flexibility, especially when dealing with functions that have multiple parameters. "
   ]
  },
  {
   "cell_type": "code",
   "execution_count": 4,
   "id": "0db0001f-fd39-4c37-a095-61479810e420",
   "metadata": {},
   "outputs": [
    {
     "name": "stdout",
     "output_type": "stream",
     "text": [
      "Hello, Chandrashekhar! You are 32 years old.\n"
     ]
    }
   ],
   "source": [
    "def greet(name, age):\n",
    "    print(f\"Hello, {name}! You are {age} years old.\")\n",
    "\n",
    "# Using keyword arguments in the function call\n",
    "greet(name=\"Chandrashekhar\", age=32)"
   ]
  },
  {
   "cell_type": "markdown",
   "id": "e0296b94-86d7-4d34-ad4e-4acdbfc37e3c",
   "metadata": {},
   "source": [
    "This approach is beneficial when we want to make the function call more readable and avoid potential confusion about the order of parameters. Additionally, using keyword arguments allows us to skip providing values for parameters with default values if we only want to specify values for specific parameters."
   ]
  },
  {
   "cell_type": "code",
   "execution_count": 5,
   "id": "c1bd8177-5914-4484-ae9e-85e0db2d7e67",
   "metadata": {},
   "outputs": [
    {
     "name": "stdout",
     "output_type": "stream",
     "text": [
      "Vaishali is 30 years old, from Nashik, Unknown.\n"
     ]
    }
   ],
   "source": [
    "def display_info(name, age, city=\"Unknown\", country=\"Unknown\"):\n",
    "    print(f\"{name} is {age} years old, from {city}, {country}.\")\n",
    "\n",
    "# Using a mix of positional and keyword arguments\n",
    "display_info(\"Vaishali\", 30, city=\"Nashik\")"
   ]
  },
  {
   "cell_type": "markdown",
   "id": "0afd4a24-d540-4ad5-a171-6d2e74386466",
   "metadata": {},
   "source": [
    "4.\tCreate a Python function that accepts a variable number of arguments and calculates their sum."
   ]
  },
  {
   "cell_type": "code",
   "execution_count": 6,
   "id": "e3a1fe2d-46bd-44f6-9703-d6ab44b0337f",
   "metadata": {},
   "outputs": [
    {
     "name": "stdout",
     "output_type": "stream",
     "text": [
      "The sum of given numbers is 15\n"
     ]
    }
   ],
   "source": [
    "def calculate_sum(*args):\n",
    "    total_sum = sum(args)\n",
    "    return total_sum\n",
    "\n",
    "result = calculate_sum(1, 2, 3, 4, 5)\n",
    "print(f\"The sum of given numbers is {result}\")"
   ]
  },
  {
   "cell_type": "markdown",
   "id": "611f2422-4864-44e3-bc9f-b5bb1754b8ec",
   "metadata": {},
   "source": [
    "5.\tWhat is the purpose of the `*args` and `**kwargs` syntax in function parameter lists?"
   ]
  },
  {
   "cell_type": "markdown",
   "id": "5794c4d3-5efa-486a-aca0-dac449d4f3d0",
   "metadata": {},
   "source": [
    "1. *args (Arbitrary Arguments):    \r",
    "    *args syntax allows a function to accept an arbitrary number of positional argument       s   .\r\n",
    "It collects these arguments into a tuple. The name args is a convention, and you can actually use any name preceded by the asterisk (    *)."
   ]
  },
  {
   "cell_type": "code",
   "execution_count": 7,
   "id": "611d13d3-6c2a-4a93-8110-093cdf72b3bf",
   "metadata": {},
   "outputs": [
    {
     "name": "stdout",
     "output_type": "stream",
     "text": [
      "1\n",
      "2\n",
      "3\n",
      "4\n"
     ]
    }
   ],
   "source": [
    "def example_function(*args):\n",
    "    for arg in args:\n",
    "        print(arg)\n",
    "\n",
    "example_function(1, 2, 3, 4)"
   ]
  },
  {
   "cell_type": "markdown",
   "id": "5ec3488f-0020-4797-ac93-ddcd275610a9",
   "metadata": {},
   "source": [
    "2. **kwargs (Arbitrary Keyword Arguments):\n",
    "\n",
    "The **kwargs syntax allows a function to accept an arbitrary number of keyword arguments.\n",
    "It collects these arguments into a dictionary where the keys are the parameter names and the values are the corresponding argument values.\n",
    "The name kwargs is a convention, and similar to *args, we can use any name preceded by double asterisks (**)."
   ]
  },
  {
   "cell_type": "code",
   "execution_count": 8,
   "id": "988c87f9-282e-45df-9e44-8a490aba965e",
   "metadata": {},
   "outputs": [
    {
     "name": "stdout",
     "output_type": "stream",
     "text": [
      "name: Avinash\n",
      "age: 28\n",
      "city: Mumbai\n"
     ]
    }
   ],
   "source": [
    "def example_function(**kwargs):\n",
    "    for key, value in kwargs.items():\n",
    "        print(f\"{key}: {value}\")\n",
    "\n",
    "example_function(name=\"Avinash\", age=28, city=\"Mumbai\")"
   ]
  },
  {
   "cell_type": "markdown",
   "id": "07e638b4-eb42-4cdd-b005-dac49f92313e",
   "metadata": {},
   "source": [
    "Using these constructs, we can create more flexible functions that can handle different numbers and types of arguments, making our code more versatile and adaptable."
   ]
  },
  {
   "cell_type": "markdown",
   "id": "c4c73872-8721-4281-88ff-0af19a443a16",
   "metadata": {},
   "source": [
    "# Return Values and Scoping"
   ]
  },
  {
   "cell_type": "markdown",
   "id": "4f64f8c9-d2e2-47b6-99a4-dd510f2576d9",
   "metadata": {},
   "source": [
    "1.\tDescribe the role of the `return` statement in Python functions and provide examples."
   ]
  },
  {
   "cell_type": "markdown",
   "id": "5b2fac39-f922-4bc8-9ade-5a5b5787b5d9",
   "metadata": {},
   "source": [
    "* The return statement in Python is used to exit a function and return a value back to the caller. When a function is called, it may perform some computations or tasks, and the result can be passed back to the code that called the function using the return statement."
   ]
  },
  {
   "cell_type": "code",
   "execution_count": 14,
   "id": "16676b35-2b67-4bf1-ae8a-196872ca762e",
   "metadata": {},
   "outputs": [
    {
     "name": "stdout",
     "output_type": "stream",
     "text": [
      "8\n"
     ]
    }
   ],
   "source": [
    "# Define a function to add two numbers\n",
    "def add_numbers(a, b):\n",
    "    sum_result = a + b\n",
    "    return sum_result   # return the sum of two given numbers\n",
    "\n",
    "result = add_numbers(3, 5)\n",
    "print(result)    "
   ]
  },
  {
   "cell_type": "markdown",
   "id": "7dad97cc-f497-469e-aa0f-a74ab6511239",
   "metadata": {},
   "source": [
    "* A function can have multiple return statements, but as soon as one is executed, the function exits, and the value is returned."
   ]
  },
  {
   "cell_type": "code",
   "execution_count": 15,
   "id": "c72ef3c2-4594-4e6e-baa7-74d4afd01605",
   "metadata": {},
   "outputs": [
    {
     "name": "stdout",
     "output_type": "stream",
     "text": [
      "Student grade: B\n"
     ]
    }
   ],
   "source": [
    "def get_grade(score):\n",
    "    if score >= 90:\n",
    "        return \"A\"\n",
    "    elif score >= 80:\n",
    "        return \"B\"\n",
    "    elif score >= 70:\n",
    "        return \"C\"\n",
    "    else:\n",
    "        return \"F\"\n",
    "\n",
    "student_score = 85\n",
    "grade = get_grade(student_score)\n",
    "print(f\"Student grade: {grade}\")  # Output: Student grade: B"
   ]
  },
  {
   "cell_type": "markdown",
   "id": "e55908cb-a928-4610-bf32-8648f75804ff",
   "metadata": {},
   "source": [
    "2.\tExplain the concept of variable scope in Python, including local and global variables."
   ]
  },
  {
   "cell_type": "markdown",
   "id": "c68add18-53f5-48a1-b215-1a3241cdc8ef",
   "metadata": {},
   "source": [
    "* Variable scope in Python refers to the region or context in which a variable is defined and can be accessed. The scope of a variable determines where in the code it is visible or can be referenced. Python has two main types of variable scope: local scope and global scope.    \n",
    "\n",
    "1. Local Scope:    \n",
    "A variable defined inside a function is said to have local scope. It is only accessible within that specific function and cannot be directly accessed from outside the function.    \n",
    "Once the function execution is complete, the local variables are destroyed, and their scope is limited to the function where they were defined.    "
   ]
  },
  {
   "cell_type": "code",
   "execution_count": 17,
   "id": "d57f6257-b9df-492a-bbdb-4b1b2df6b59d",
   "metadata": {},
   "outputs": [
    {
     "name": "stdout",
     "output_type": "stream",
     "text": [
      "10\n"
     ]
    },
    {
     "ename": "NameError",
     "evalue": "name 'local_variable' is not defined",
     "output_type": "error",
     "traceback": [
      "\u001b[1;31m---------------------------------------------------------------------------\u001b[0m",
      "\u001b[1;31mNameError\u001b[0m                                 Traceback (most recent call last)",
      "Cell \u001b[1;32mIn[17], line 8\u001b[0m\n\u001b[0;32m      6\u001b[0m example_function()\n\u001b[0;32m      7\u001b[0m \u001b[38;5;66;03m# Attempting to print local_variable here would result in an error\u001b[39;00m\n\u001b[1;32m----> 8\u001b[0m \u001b[38;5;28mprint\u001b[39m(local_variable)\n",
      "\u001b[1;31mNameError\u001b[0m: name 'local_variable' is not defined"
     ]
    }
   ],
   "source": [
    "# Example of local scope variable\n",
    "def example_function():\n",
    "    local_variable = 10\n",
    "    print(local_variable)\n",
    "\n",
    "example_function()\n",
    "\n",
    "# Attempting to print local_variable here results in an error\n",
    "print(local_variable)"
   ]
  },
  {
   "cell_type": "markdown",
   "id": "55e28849-9315-4159-bedd-2895918d03c7",
   "metadata": {},
   "source": [
    "2. Global Scope:    \n",
    "A variable defined outside of any function or block has global scope. It can be accessed from anywhere in the code, both inside and outside functions.\n",
    "Global variables persist throughout the program's execution and are not tied to a specific function.    "
   ]
  },
  {
   "cell_type": "code",
   "execution_count": 18,
   "id": "6e50ce38-29a4-4479-8c2b-fd1a947a24e0",
   "metadata": {},
   "outputs": [
    {
     "name": "stdout",
     "output_type": "stream",
     "text": [
      "20\n",
      "20\n"
     ]
    }
   ],
   "source": [
    "# Example of global variable\n",
    "\n",
    "global_variable = 20\n",
    "\n",
    "def example_function():\n",
    "    print(global_variable)\n",
    "\n",
    "example_function()\n",
    "print(global_variable)"
   ]
  },
  {
   "cell_type": "markdown",
   "id": "d45769e2-4e51-4695-8e96-f6422b1b13ad",
   "metadata": {},
   "source": [
    "* Note:    \n",
    "If we want to modify a global variable within a function, you need to use the global keyword before the variable name inside the function. Without it, Python will treat the variable as local to the function.    "
   ]
  },
  {
   "cell_type": "code",
   "execution_count": 19,
   "id": "fb70329d-b4ae-476e-bd01-9393846a004b",
   "metadata": {},
   "outputs": [
    {
     "name": "stdout",
     "output_type": "stream",
     "text": [
      "30\n"
     ]
    }
   ],
   "source": [
    "global_variable = 20\n",
    "\n",
    "def modify_global():\n",
    "    global global_variable\n",
    "    global_variable = 30\n",
    "\n",
    "modify_global()\n",
    "print(global_variable)  # Output: 30"
   ]
  },
  {
   "cell_type": "markdown",
   "id": "44ce851a-9b51-4752-93a8-6aeac8c5997b",
   "metadata": {},
   "source": [
    "3.\tWrite a Python program that demonstrates the use of global variables within functions."
   ]
  },
  {
   "cell_type": "code",
   "execution_count": 20,
   "id": "a4d53563-501f-4222-a039-2abb3014804f",
   "metadata": {},
   "outputs": [
    {
     "name": "stdout",
     "output_type": "stream",
     "text": [
      "Global Counter: 0\n",
      "Global List: []\n",
      "Global Counter: 1\n",
      "Global List: [42, 99]\n"
     ]
    }
   ],
   "source": [
    "# Global variables\n",
    "global_counter = 0\n",
    "global_list = []\n",
    "\n",
    "def increment_counter():\n",
    "    global global_counter\n",
    "    global_counter += 1\n",
    "\n",
    "def add_to_list(value):\n",
    "    global global_list\n",
    "    global_counter = 100  # This creates a local variable with the same name, not modifying the global one\n",
    "    global_list.append(value)\n",
    "\n",
    "def display_global_variables():\n",
    "    print(\"Global Counter:\", global_counter)\n",
    "    print(\"Global List:\", global_list)\n",
    "\n",
    "display_global_variables()\n",
    "\n",
    "increment_counter()\n",
    "add_to_list(42)\n",
    "add_to_list(99)\n",
    "\n",
    "display_global_variables()"
   ]
  },
  {
   "cell_type": "markdown",
   "id": "175fee00-9301-410d-8322-2dfe18055d5d",
   "metadata": {},
   "source": [
    "4.\tCreate a Python function that calculates the factorial of a number and returns it."
   ]
  },
  {
   "cell_type": "code",
   "execution_count": 6,
   "id": "ea20e782-c993-425d-a61b-3362757395e7",
   "metadata": {},
   "outputs": [
    {
     "name": "stdin",
     "output_type": "stream",
     "text": [
      "Enter the number:  5\n"
     ]
    },
    {
     "name": "stdout",
     "output_type": "stream",
     "text": [
      "5! = 120\n"
     ]
    }
   ],
   "source": [
    "# We use recursion to find the factorial\n",
    "def factorial_of_n(n):\n",
    "    if n in [0, 1]:  # Check if n is either 0 or 1\n",
    "        return 1\n",
    "    else:\n",
    "        factorial_n = n * factorial_of_n(n - 1)  # Correct the recursive call\n",
    "    return factorial_n\n",
    "\n",
    "n = int(input(\"Enter the number: \"))\n",
    "result = factorial_of_n(n)\n",
    "print(f\"{n}! = {result}\")"
   ]
  },
  {
   "cell_type": "markdown",
   "id": "e2d1dfd2-75fa-4efc-a80b-dae713813e0c",
   "metadata": {},
   "source": [
    "5.\tHow can you access variables defined outside a function from within the function?"
   ]
  },
  {
   "cell_type": "code",
   "execution_count": 7,
   "id": "b7997610-6c91-42c3-ba6a-73b045b3fc0e",
   "metadata": {},
   "outputs": [
    {
     "name": "stdout",
     "output_type": "stream",
     "text": [
      "Inside the function: 15\n",
      "Outside the function: 15\n"
     ]
    }
   ],
   "source": [
    "global_variable = 10\n",
    "\n",
    "def access_global():\n",
    "    global global_variable\n",
    "    global_variable += 5\n",
    "    print(\"Inside the function:\", global_variable)\n",
    "\n",
    "access_global()\n",
    "print(\"Outside the function:\", global_variable)"
   ]
  },
  {
   "cell_type": "markdown",
   "id": "f6bcce9a-c2b9-45a7-a164-69fefcf3bdee",
   "metadata": {},
   "source": [
    "# Lambda Functions and Higher-Order Functions:"
   ]
  },
  {
   "cell_type": "markdown",
   "id": "fc2653ed-56c9-4af5-89d0-4327313a3f96",
   "metadata": {},
   "source": [
    "1.\tWhat are lambda functions in Python, and when are they typically used?"
   ]
  },
  {
   "cell_type": "markdown",
   "id": "5e79c512-4456-4c7a-a998-e94fa9059fb4",
   "metadata": {},
   "source": [
    "* In Python, a lambda function is a small, anonymous function defined using the lambda keyword. It is also referred to as a \"lambda expression.\" Lambda functions are often used for short, simple operations where a full function definition would be unnecessarily verbose.\n",
    "* The general syntax of a lambda function is:    \n",
    "  lambda arguments: expression\n"
   ]
  },
  {
   "cell_type": "code",
   "execution_count": 8,
   "id": "3e2ed7fb-401a-47e8-aa9f-f482c2176484",
   "metadata": {},
   "outputs": [
    {
     "name": "stdout",
     "output_type": "stream",
     "text": [
      "25\n"
     ]
    }
   ],
   "source": [
    "# Calculation of square using lambda function\n",
    "square = lambda x: x**2\n",
    "print(square(5)) "
   ]
  },
  {
   "cell_type": "markdown",
   "id": "4daa285c-c72a-4997-b46d-3c27ad43bdb6",
   "metadata": {},
   "source": [
    "* Lambda functions are typically used in the following situations:     \n",
    "\n",
    "1. Functional Programming Constructs:    \n",
    "Lambda functions are commonly used with functional programming constructs like map(), filter(), and reduce(). They allow you to create concise and inline functions for specific operations."
   ]
  },
  {
   "cell_type": "code",
   "execution_count": 9,
   "id": "47796f20-bc1c-46ff-aad0-9435f9f25ba3",
   "metadata": {},
   "outputs": [
    {
     "name": "stdout",
     "output_type": "stream",
     "text": [
      "[1, 4, 9, 16, 25]\n"
     ]
    }
   ],
   "source": [
    "# Example: Using lambda with map to square each element\n",
    "numbers = [1, 2, 3, 4, 5]\n",
    "\n",
    "squared_numbers = list(map(lambda x: x**2, numbers))\n",
    "print(squared_numbers)  "
   ]
  },
  {
   "cell_type": "markdown",
   "id": "ac9fd1d1-1c5e-4690-ac3d-56c1e674bbe1",
   "metadata": {},
   "source": [
    "2. Anonymous Functions:    \n",
    "Lambda functions are useful when you need a quick, one-time-use function without assigning a name to it. They are often employed in situations where defining a full function using def would be overkill."
   ]
  },
  {
   "cell_type": "code",
   "execution_count": 10,
   "id": "77a3d1ec-be7a-48f7-b4e6-065574354989",
   "metadata": {},
   "outputs": [
    {
     "name": "stdout",
     "output_type": "stream",
     "text": [
      "[(3, 1), (1, 4), (2, 8)]\n"
     ]
    }
   ],
   "source": [
    "# Example: Sorting a list of tuples based on the second element using lambda\n",
    "tuples = [(1, 4), (3, 1), (2, 8)]\n",
    "sorted_tuples = sorted(tuples, key=lambda x: x[1])\n",
    "print(sorted_tuples)"
   ]
  },
  {
   "cell_type": "markdown",
   "id": "b997b48b-c982-46e5-813b-6fa9780923da",
   "metadata": {},
   "source": [
    "3. Concise Expressions:    \n",
    "Lambda functions are useful for writing concise expressions, especially when you need a simple function for a short operation."
   ]
  },
  {
   "cell_type": "code",
   "execution_count": 11,
   "id": "e3416e28-19e9-4ccb-a24e-4cb6714f185f",
   "metadata": {},
   "outputs": [
    {
     "name": "stdout",
     "output_type": "stream",
     "text": [
      "[2, 4, 6]\n"
     ]
    }
   ],
   "source": [
    "# Example: Checking if a number is even using lambda in filter\n",
    "numbers = [1, 2, 3, 4, 5, 6]\n",
    "even_numbers = list(filter(lambda x: x % 2 == 0, numbers))\n",
    "print(even_numbers)"
   ]
  },
  {
   "cell_type": "markdown",
   "id": "fcf1fc9f-274f-47d6-adcc-9d52efaf41ec",
   "metadata": {},
   "source": [
    "* Note: While lambda functions are powerful in specific contexts, it's important to note that they are limited compared to regular functions defined using def. They are meant for simple operations, and for more complex logic, it's often better to use a named function."
   ]
  },
  {
   "cell_type": "markdown",
   "id": "5f5e2141-079f-49a6-95f4-b9cfff7390c4",
   "metadata": {},
   "source": [
    "2.\tWrite a Python program that uses lambda functions to sort a list of tuples based on the second element."
   ]
  },
  {
   "cell_type": "code",
   "execution_count": 13,
   "id": "0932f061-c39b-4754-af28-eebbd4602826",
   "metadata": {},
   "outputs": [
    {
     "name": "stdout",
     "output_type": "stream",
     "text": [
      "sorted_tuples based on second elements in tuples: [(3, 1), (1, 4), (6, 5), (2, 8), (9, 12, 5)]\n"
     ]
    }
   ],
   "source": [
    "# Sorting a list of tuples based on the second element using lambda\n",
    "tuples = [(1, 4), (3, 1), (2, 8), (6, 5), (9, 12, 5)]\n",
    "sorted_tuples = sorted(tuples, key=lambda x: x[1])\n",
    "print(\"sorted_tuples based on second elements in tuples:\", sorted_tuples)"
   ]
  },
  {
   "cell_type": "markdown",
   "id": "6eb0f1c6-a07c-46e1-8898-716fd20013d6",
   "metadata": {},
   "source": [
    "3.\tExplain the concept of higher-order functions in Python, and provide an example."
   ]
  },
  {
   "cell_type": "markdown",
   "id": "92b269a6-3783-4404-bd41-d9756ecf2e1a",
   "metadata": {},
   "source": [
    "* In Python, a higher-order function is a function that takes one or more functions as arguments or returns a function as its result. Essentially, a higher-order function treats functions as first-class citizens, allowing them to be used like any other variable, such as integers, strings, or lists. This concept is a fundamental aspect of functional programming.    \n",
    "\n",
    "1. Functions as Arguments:    \n",
    "A higher-order function can accept one or more functions as arguments. This allows you to pass behavior (functionality) as an argument to another function.     \n",
    "\n",
    "2. Functions as Return Values:    \n",
    "A higher-order function can also return a function as its result. This is often used to create new functions with specific behaviors based on the input functions.    \n",
    "\n",
    "* Now, let's look at an example to illustrate the concept. Suppose we have a higher-order function called operate_on_numbers, which takes two numbers and a function as arguments. The function is then applied to the two numbers, and the result is returned:    "
   ]
  },
  {
   "cell_type": "code",
   "execution_count": 14,
   "id": "988aa031-959c-4256-bcc4-1934c5e2316a",
   "metadata": {},
   "outputs": [
    {
     "name": "stdout",
     "output_type": "stream",
     "text": [
      "Result of addition: 7\n",
      "Result of multiplication: 12\n",
      "Result of exponentiation: 8\n"
     ]
    }
   ],
   "source": [
    "def operate_on_numbers(x, y, operation):\n",
    "    return operation(x, y)\n",
    "\n",
    "# Example functions to be passed as arguments\n",
    "def add(x, y):\n",
    "    return x + y\n",
    "\n",
    "def multiply(x, y):\n",
    "    return x * y\n",
    "\n",
    "def power(x, y):\n",
    "    return x ** y\n",
    "\n",
    "# Using the higher-order function with different operations\n",
    "result_add = operate_on_numbers(3, 4, add)\n",
    "print(\"Result of addition:\", result_add)  \n",
    "\n",
    "result_multiply = operate_on_numbers(3, 4, multiply)\n",
    "print(\"Result of multiplication:\", result_multiply)  \n",
    "\n",
    "result_power = operate_on_numbers(2, 3, power)\n",
    "print(\"Result of exponentiation:\", result_power)  "
   ]
  },
  {
   "cell_type": "markdown",
   "id": "12967cd4-0cee-4f59-ac5d-cf073f7a0d82",
   "metadata": {},
   "source": [
    "4.\tCreate a Python function that takes a list of numbers and a function as arguments, applying the function to each element in the list."
   ]
  },
  {
   "cell_type": "code",
   "execution_count": 18,
   "id": "9af41c55-8e06-4ef6-9a6c-01bf0a30df59",
   "metadata": {},
   "outputs": [
    {
     "name": "stdout",
     "output_type": "stream",
     "text": [
      "Result after applying square function: [1, 4, 9, 16, 25]\n",
      "Result after applying cube function: [1, 8, 27, 64, 125]\n"
     ]
    }
   ],
   "source": [
    "def apply_function_to_list(numbers, custom_function):\n",
    "    \"\"\"\n",
    "    Apply the given function to each element in the list.\n",
    "    \n",
    "    Parameters:\n",
    "    - numbers (list): List of numbers.\n",
    "    - custom_function (function): Function to apply to each element in the list.\n",
    "\n",
    "    Returns:\n",
    "    - list: List of results after applying the function to each element.\n",
    "    \"\"\"\n",
    "    return [custom_function(num) for num in numbers]\n",
    "\n",
    "def square(x):\n",
    "    return x ** 2   # Calculating square of eah element in the list\n",
    "\n",
    "def cube(x):\n",
    "    return x ** 3   # Calculating cube of eah element in the list\n",
    "\n",
    "numbers_list = [1, 2, 3, 4, 5]\n",
    "\n",
    "# Apply square function to each element in the list\n",
    "result_square = apply_function_to_list(numbers_list, square)\n",
    "print(\"Result after applying square function:\", result_square)\n",
    "\n",
    "# Apply cube function to each element in the list\n",
    "result_cube = apply_function_to_list(numbers_list, cube)\n",
    "print(\"Result after applying cube function:\", result_cube)"
   ]
  },
  {
   "cell_type": "markdown",
   "id": "1d02c602-d857-40a6-a3fb-e232c6efa45a",
   "metadata": {},
   "source": [
    "# Built-in Functions:"
   ]
  },
  {
   "cell_type": "markdown",
   "id": "773f3c12-65d2-415d-8287-7b5827b675ea",
   "metadata": {},
   "source": [
    "1.\tDescribe the role of built-in functions like `len()`, `max()`, and `min()` in Python."
   ]
  },
  {
   "cell_type": "markdown",
   "id": "88346a0b-f431-446e-8925-d4b74ada8f02",
   "metadata": {},
   "source": [
    "* len() Function:    \n",
    "Role: The len() function is used to determine the length or the number of items in an object. It is commonly used with data structures like strings, lists, tuples, dictionaries, and sets."
   ]
  },
  {
   "cell_type": "code",
   "execution_count": 19,
   "id": "8413d352-bfb3-4fdb-a7b9-e56cd2c67a50",
   "metadata": {},
   "outputs": [
    {
     "name": "stdout",
     "output_type": "stream",
     "text": [
      "13\n"
     ]
    }
   ],
   "source": [
    "string_length = len(\"Hello, World!\")\n",
    "print(string_length)  "
   ]
  },
  {
   "cell_type": "markdown",
   "id": "dbbda32e-9096-4490-af7d-124517e4c834",
   "metadata": {},
   "source": [
    "* max() Function: : The max() function returns the largest item in an iterable or the largest of two or more arguments. It is often used with sequences like lists, tuples, and string s."
   ]
  },
  {
   "cell_type": "code",
   "execution_count": 20,
   "id": "c2870e26-6862-42f0-99c5-2c34fe60942b",
   "metadata": {},
   "outputs": [
    {
     "name": "stdout",
     "output_type": "stream",
     "text": [
      "9\n"
     ]
    }
   ],
   "source": [
    "max_value = max(3, 7, 1, 9, 5)\n",
    "print(max_value)"
   ]
  },
  {
   "cell_type": "markdown",
   "id": "ae2088b8-a018-4392-8f84-b0448051380b",
   "metadata": {},
   "source": [
    "min() Function:    \n",
    "Role: The min() function returns the smallest item in an iterable or the smallest of two or more arguments. Like max(), it is commonly used with sequences."
   ]
  },
  {
   "cell_type": "code",
   "execution_count": 22,
   "id": "1e7996c2-d867-4dd4-832b-dc4b4bbe0ac7",
   "metadata": {},
   "outputs": [
    {
     "name": "stdout",
     "output_type": "stream",
     "text": [
      "1\n"
     ]
    }
   ],
   "source": [
    "min_value = min(3, 7, 1, 9, 5)\n",
    "print(min_value) "
   ]
  },
  {
   "cell_type": "markdown",
   "id": "129b4c6c-8054-46b5-a220-cd2e24d57a20",
   "metadata": {},
   "source": [
    "2.\tWrite a Python program that uses the `map()` function to apply a function to\t each element of a list."
   ]
  },
  {
   "cell_type": "code",
   "execution_count": 26,
   "id": "3d575288-4886-467e-a10b-672e0d63434f",
   "metadata": {},
   "outputs": [
    {
     "name": "stdout",
     "output_type": "stream",
     "text": [
      "Original list:  [1, 2, 3, 4, 5]\n",
      "List of cubes:  [1, 8, 27, 64, 125]\n"
     ]
    }
   ],
   "source": [
    "def cube_of_number(x):\n",
    "    return x ** 3\n",
    "\n",
    "list1 = [1, 2, 3, 4, 5]\n",
    "\n",
    "cube_list = list(map(cube_of_number, list1))\n",
    "print(\"Original list: \", list1)\n",
    "print(\"List of cubes: \", cube_list)"
   ]
  },
  {
   "cell_type": "markdown",
   "id": "5797c375-3db7-4f67-9cc5-5627896a5021",
   "metadata": {},
   "source": [
    "3.\tHow does the `filter()` function work in Python, and when would you use it?"
   ]
  },
  {
   "cell_type": "markdown",
   "id": "d2c90c47-6bdb-4ee1-a60d-7232d0237072",
   "metadata": {},
   "source": [
    "The filter() function in Python is a built-in function that is used to filter elements of an iterable based on a specified function. It creates a new iterator from elements of the original iterable for which the specified function returns True."
   ]
  },
  {
   "cell_type": "code",
   "execution_count": 27,
   "id": "1668927e-dd19-4947-8d17-85d5b5932783",
   "metadata": {},
   "outputs": [
    {
     "name": "stdout",
     "output_type": "stream",
     "text": [
      "Original numbers: [1, 2, 3, 4, 5, 6, 7, 8, 9, 10]\n",
      "Even numbers: [2, 4, 6, 8, 10]\n"
     ]
    }
   ],
   "source": [
    "# Function to filter even numbers\n",
    "def is_even(num):\n",
    "    return num % 2 == 0\n",
    "\n",
    "# List of numbers\n",
    "numbers = [1, 2, 3, 4, 5, 6, 7, 8, 9, 10]\n",
    "\n",
    "# Use filter to get even numbers\n",
    "even_numbers = filter(is_even, numbers)\n",
    "\n",
    "# Convert the filter object to a list for printing\n",
    "even_numbers_list = list(even_numbers)\n",
    "\n",
    "print(\"Original numbers:\", numbers)\n",
    "print(\"Even numbers:\", even_numbers_list)"
   ]
  },
  {
   "cell_type": "markdown",
   "id": "194cb1c2-2ab4-440c-863d-7cd5da09bcb0",
   "metadata": {},
   "source": [
    "4.\tCreate a Python program that uses the `reduce()` function to find the product of all elements in a list."
   ]
  },
  {
   "cell_type": "markdown",
   "id": "338d030d-423e-4f5d-888f-2a112d51bb3f",
   "metadata": {},
   "source": [
    "To use the reduce() function to find the product of all elements in a list, we first need to import the reduce function from the functools module."
   ]
  },
  {
   "cell_type": "code",
   "execution_count": 29,
   "id": "6551cd8a-7fee-41fb-9e56-8dac045b1555",
   "metadata": {},
   "outputs": [
    {
     "name": "stdout",
     "output_type": "stream",
     "text": [
      "List of numbers: [2, 3, 4, 5]\n",
      "Product of all elements: 120\n"
     ]
    }
   ],
   "source": [
    "from functools import reduce\n",
    "\n",
    "def multiply(x, y):\n",
    "    return x * y\n",
    "\n",
    "numbers = [2, 3, 4, 5]\n",
    "\n",
    "product = reduce(multiply, numbers)\n",
    "\n",
    "print(\"List of numbers:\", numbers)\n",
    "print(\"Product of all elements:\", product)"
   ]
  },
  {
   "cell_type": "markdown",
   "id": "c6efc618-8d15-4920-95c6-7b6ef3ccc297",
   "metadata": {},
   "source": [
    "# Function Documentation and Best Practices:"
   ]
  },
  {
   "cell_type": "markdown",
   "id": "507441fc-ec6d-45a4-bd8c-e4d7a2383cff",
   "metadata": {},
   "source": [
    "1.\tExplain the purpose of docstrings in Python functions and how to write them."
   ]
  },
  {
   "cell_type": "markdown",
   "id": "c719f2dd-41d3-4a45-9eed-6c534be348ae",
   "metadata": {},
   "source": [
    "* Docstrings in Python serve the purpose of providing documentation and information about a function, module, class, or method. They are essentially string literals that occur as the first statement in a module, function, class, or method definition. Properly documenting your code using docstrings is beneficial for both the developer and potential users of the code. Docstrings can be accessed using the __doc__ attribute of a Python object."
   ]
  },
  {
   "cell_type": "code",
   "execution_count": 30,
   "id": "6656f525-1adc-4b7b-9809-0bf7dd06cf2f",
   "metadata": {},
   "outputs": [],
   "source": [
    "def calculate_square(x):\n",
    "    \"\"\"\n",
    "    Calculates the square of a given number.\n",
    "\n",
    "    Parameters:\n",
    "    - x (float or int): The input number.\n",
    "\n",
    "    Returns:\n",
    "    - float or int: The square of the input number.\n",
    "    \"\"\"\n",
    "    return x ** 2"
   ]
  },
  {
   "cell_type": "markdown",
   "id": "e943d70f-b9fa-4a2b-8363-ab611fe678b6",
   "metadata": {},
   "source": [
    "* Writing Docstrings:\n",
    "1. Summary Line:    \n",
    "The first line of the docstring should be a concise, one-line summary of the function's purpose.      \n",
    "\n",
    "2. Blank Line:    \n",
    "Follow the summary line with a blank line for separation.    \n",
    "\n",
    "3. Detailed Description:    \n",
    "If needed, provide a more detailed description of the function, explaining its behavior, expected inputs, and possible outputs.\n",
    "\n",
    "5. Parameters and Return Values:    \n",
    "Include information about each parameter, specifying its type and purpose.    \n",
    "Mention the expected type of the return value.    "
   ]
  },
  {
   "cell_type": "code",
   "execution_count": 31,
   "id": "286a7d95-c255-4c47-b1d1-4a3e34dacccb",
   "metadata": {},
   "outputs": [],
   "source": [
    "def calculate_power(base, exponent):\n",
    "    \"\"\"\n",
    "    Calculates the power of a given base raised to a specified exponent.\n",
    "\n",
    "    Parameters:\n",
    "    - base (float or int): The base number.\n",
    "    - exponent (float or int): The exponent to which the base is raised.\n",
    "\n",
    "    Returns:\n",
    "    - float or int: The result of base raised to the power of the exponent.\n",
    "    \"\"\"\n",
    "    return base ** exponent"
   ]
  },
  {
   "cell_type": "markdown",
   "id": "5fe9793c-7d81-4804-8c7f-9b416238addd",
   "metadata": {},
   "source": [
    "* Accessing Docstrings:    \n",
    "we can access the docstring of a function using the __doc__ attribute or the help() function:"
   ]
  },
  {
   "cell_type": "code",
   "execution_count": 32,
   "id": "569f98dd-a5c3-4050-a949-50fff0b87ac7",
   "metadata": {},
   "outputs": [
    {
     "name": "stdout",
     "output_type": "stream",
     "text": [
      "\n",
      "    Calculates the power of a given base raised to a specified exponent.\n",
      "\n",
      "    Parameters:\n",
      "    - base (float or int): The base number.\n",
      "    - exponent (float or int): The exponent to which the base is raised.\n",
      "\n",
      "    Returns:\n",
      "    - float or int: The result of base raised to the power of the exponent.\n",
      "    \n",
      "Help on function calculate_power in module __main__:\n",
      "\n",
      "calculate_power(base, exponent)\n",
      "    Calculates the power of a given base raised to a specified exponent.\n",
      "    \n",
      "    Parameters:\n",
      "    - base (float or int): The base number.\n",
      "    - exponent (float or int): The exponent to which the base is raised.\n",
      "    \n",
      "    Returns:\n",
      "    - float or int: The result of base raised to the power of the exponent.\n",
      "\n"
     ]
    }
   ],
   "source": [
    "print(calculate_power.__doc__)\n",
    "# or\n",
    "help(calculate_power)"
   ]
  },
  {
   "cell_type": "markdown",
   "id": "e32cabe8-a8dc-4b20-8cc1-16dacf3d976f",
   "metadata": {},
   "source": [
    "* By following these conventions for writing docstrings, we make our code more readable and maintainable. Moreover, tools like Sphinx, which are used for generating documentation, can automatically extract and format docstrings to create comprehensive documentation for our code."
   ]
  },
  {
   "cell_type": "markdown",
   "id": "d455fa3f-ab44-4d22-872a-89775b4165cb",
   "metadata": {},
   "source": [
    "#### Best Practices in Python"
   ]
  },
  {
   "cell_type": "markdown",
   "id": "da723d2c-ff59-4a57-a2c9-84fc429dd69c",
   "metadata": {},
   "source": [
    "2.\tDescribe some best practices for naming functions and variables in Python, including naming conventions and guidelines."
   ]
  },
  {
   "cell_type": "markdown",
   "id": "92fea591-8db3-4dd1-85d2-8134fb205463",
   "metadata": {},
   "source": [
    "* General Naming Conventions:       \n",
    "\n",
    "1. Use Descriptive Names:        \n",
    "Choose names that clearly convey the purpose and meaning of the function or variable. This enhances code readability.    \n",
    "\n",
    "2. Follow PEP 8:    \n",
    "Adhere to the naming conventions outlined in PEP 8, the official style guide for Python code.    \n",
    "\n",
    "3. Function Names:    \n",
    "Use lowercase with underscores:    \n",
    "For function names, use lowercase letters and separate words with underscores. This is known as the snake_case convention.\n",
    "\n",
    "4. Choose Verb-Noun Pairing:    \n",
    "Use verb-noun pairing for function names. The function name should convey what the function does."
   ]
  },
  {
   "cell_type": "markdown",
   "id": "d7b97a20-5f6e-4f11-a270-91ef47c1cde8",
   "metadata": {},
   "source": [
    "##### Good\r\n",
    "def calculate_area(radius):\r\n",
    "    # .# ...\r\n"
   ]
  },
  {
   "cell_type": "markdown",
   "id": "866c954a-7f08-414a-9db4-d8ba0c64b661",
   "metadata": {},
   "source": [
    "##### Avoid\n",
    "def radius_calculation(value):\n",
    "    # ..."
   ]
  },
  {
   "cell_type": "markdown",
   "id": "ea6cc949-91aa-498c-a55d-cddb3068bd4b",
   "metadata": {},
   "source": [
    "* Variable Names:   \n",
    "  \n",
    "1. Use lowercase with underscores:        \n",
    "Similar to functions, use lowercase letters and underscores for variable names.    \n",
    "\n",
    "2. Be Explicit:    \n",
    "\r\n",
    "Choose variable names that are explicit and descriptive of the data they represen    \n",
    "\n",
    "* Constants:    \r",
    "1. \n",
    "Use UPPERCASE with underscores    :\r\n",
    "Constants, i.e., variables whose values should not be modified, should be in all uppercase with underscore    \n",
    "\n",
    "* Classes:    \r\n",
    "Use CamelCase    :\r\n",
    "For class names, use CamelCase (capitalize the first letter of each word    \n",
    "\n",
    "* Modules and Packages:    \r\n",
    "Use lowercase with underscores     :\r\n",
    "Module and package names should follow the same lowercase_with_underscores conventio     \n",
    "\n",
    "* Avoid Ambiguous Names:     \r",
    "1. \n",
    "Avoid Single-Letter Names (except in specific cases)    \r\n",
    "\r\n",
    "In general, avoid using single-letter variable names unless they represent iterators in short loo    \n",
    "\n",
    "2. Avoid Overusing Abbreviations:    \n",
    "\r\n",
    "While abbreviations can save characters, prefer clarity over brevity. Only use well-known and widely accepted abbreviation\n",
    "\n",
    "* Consistency:     \r\n",
    "Be Consistent Across the Codebase    :\r\n",
    "Maintain consistency in naming conventions throughoutheur codebase. Consistency improves code readabilit    y.s.ps.n.).s.t."
   ]
  },
  {
   "cell_type": "markdown",
   "id": "fdd47bf2-a8da-40a4-bbde-98ff5dbe0360",
   "metadata": {},
   "source": [
    "* Conclusion:    \n",
    "Choosing meaningful and consistent names for functions and variables is a key aspect of writing clean and maintainable Python code.    \n",
    "Following these best practices and conventions helps create code that is not only correct but also easily understandable by both us and others who may read or collaborate on our code.    "
   ]
  },
  {
   "cell_type": "code",
   "execution_count": null,
   "id": "c61bbff4-aaaa-45b7-9eb2-49d247391b45",
   "metadata": {},
   "outputs": [],
   "source": []
  }
 ],
 "metadata": {
  "kernelspec": {
   "display_name": "Python 3 (ipykernel)",
   "language": "python",
   "name": "python3"
  },
  "language_info": {
   "codemirror_mode": {
    "name": "ipython",
    "version": 3
   },
   "file_extension": ".py",
   "mimetype": "text/x-python",
   "name": "python",
   "nbconvert_exporter": "python",
   "pygments_lexer": "ipython3",
   "version": "3.11.5"
  }
 },
 "nbformat": 4,
 "nbformat_minor": 5
}
